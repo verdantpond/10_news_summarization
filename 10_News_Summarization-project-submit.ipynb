{
 "cells": [
  {
   "cell_type": "markdown",
   "id": "finite-socket",
   "metadata": {},
   "source": [
    "# Ⅰ. 주요 개념"
   ]
  },
  {
   "cell_type": "markdown",
   "id": "rocky-times",
   "metadata": {},
   "source": [
    "##### 축약적 요약 Extractive Summarization\n",
    "단어 그대로 원문에서 문장들을 추출해서 요약하는 방식이다. 가령, 10개의 문장으로 구성된 텍스트가 있다면, 그중 핵심적인 문장 3개를 꺼내와서 3개의 문장으로 구성된 요약문을 만드는 식이다. 그런데 꺼내온 3개의 문장이 원문에서 중요한 문장일 수는 있지만, 3개의 문장의 연결이 자연스럽지 않을 수는 있다. 추출적 요약은 원문을 구성하는 문장 중 어느 것이 요약문에 들어갈 핵심문장인지를 판별한다는 점에서 문장 분류(Text Classification) 문제로 접근한 것이다. 주로 전통적인 머신 러닝 방식에 속하는 텍스트 랭크(TextRank)와 같은 알고리즘을 사용해서 이 방법을 사용한다."
   ]
  },
  {
   "cell_type": "markdown",
   "id": "thorough-dinner",
   "metadata": {},
   "source": [
    "##### 추상적 요약 Abstractive Summarization\n",
    "원문으로부터 내용이 요약된 새로운 문장을 생성해내는 것이다.. 여기서 새로운 문장이라는 것은 결과로 나온 문장이 원문에 원래 없던 문장일 수도 있다는 것을 의미한다. 자연어 처리 분야 중 자연어 생성(Natural Language Generation, NLG)의 영역인 셈이다."
   ]
  },
  {
   "cell_type": "markdown",
   "id": "younger-flower",
   "metadata": {},
   "source": [
    "##### RNN(Recurrent neural network순환 신경망)  \n",
    "문장, 음성데이터 등과 같은 시퀀스 데이타(관련이 있는 연속 데이터)의 동적 특징을 지니는 모델이다. 신경망 내부 상태를 저장할 수 있고 이것이 입력 데이터와 적용되어 출력물을 만든다. "
   ]
  },
  {
   "cell_type": "markdown",
   "id": "south-bride",
   "metadata": {},
   "source": [
    "##### LSTM(Long Short-Term Memory) layer\n",
    "RNN의 기울기 소실문제를 해결하기 위해 고안된 딥러닝 시스템이다. 망각게이트가 기울기 소실문제를 해결함으로써 오래전 데이터를 유지하여 활용할 수 있게 되었다. RNN과 다른 점은 다음 time step의 셀에 hidden state뿐만 아니라, cell state도 함께 전달한다는 점이다."
   ]
  },
  {
   "attachments": {
    "image.png": {
     "image/png": "[encoded data removed]"
    }
   },
   "cell_type": "markdown",
   "id": "respected-basis",
   "metadata": {},
   "source": [
    "##### seq2seq 모델\n",
    "두 개의 RNN 아키텍처를 사용하여 입력 시퀀스로부터 출력 시퀀스를 생성해내는 자연어 생성 모델입니다. 원문을 요약문으로 번역한다고 생각한다면 된다. 원문을 첫 번째 RNN인 인코더로 입력하면, 인코더는 이를 하나의 고정된 벡터로 변환해요. 이 벡터를 문맥 정보를 가지고 있는 벡터라고 하여 컨텍스트 벡터(context vector)라고 합니다. 두 번째 RNN인 디코더는 이 컨텍스트 벡터를 전달받아 한 단어씩 생성해내서 요약 문장을 완성하는 거죠.\n",
    "![image.png](attachment:image.png)"
   ]
  },
  {
   "cell_type": "markdown",
   "id": "seasonal-resource",
   "metadata": {},
   "source": [
    "##### Attention Mechanism\n",
    "인코더의 모든 hidden state가 동일한 비중으로 반영되는 것이 아니라, 디코더의 현재 time step의 예측에 인코더의 각 step이 얼마나 영향을 미치는지에 따른 가중합으로 계산되는 방식이다. 컨텍스트 벡터를 구성하기 위한 인코더 hidden state의 가중치 값은 디코더의 현재 스텝이 어디냐에 따라 계속 달라진다는 점입니다. 이와 달리, 기본적인 seq2seq 모델에서 컨텍스트 벡터는 디코더의 현재 스텝 위치에 무관하게 한번 계산되면 고정값을 가집니다."
   ]
  },
  {
   "cell_type": "markdown",
   "id": "subtle-mattress",
   "metadata": {},
   "source": [
    "##### 불용어(stopwords) \n",
    "일반적으로 텍스트에는 자주 등장하지만 자연어 처리를 할 때 실질적으로 별 도움이 되지 않는 단어들."
   ]
  },
  {
   "cell_type": "markdown",
   "id": "returning-paragraph",
   "metadata": {},
   "source": [
    "##### 텍스트 정규화(text normalization) : \n",
    "같은 의미인데도 다른 표현으로 쓰여 마치 다른 단어들처럼 간주되는 경우가 있어요. 예를 들어서 it'll은 it will과 같고, mustn't과 must not은 사실 같은 표현이죠. 이런 경우 기계가 굳이 이들을 마치 다른 단어로 간주하게 해서 연산량을 늘리는 것보다는 기계 학습 전에 미리 같은 표현으로 통일시켜주는 것이 기계의 연산량을 줄일 수 있는 방법을 텍스트 정규화라 한다. 다음은 정규화 사전 주소이다. https://stackoverflow.com/questions/19790188/expanding-english-language-contractions-in-python"
   ]
  },
  {
   "cell_type": "markdown",
   "id": "stainless-footwear",
   "metadata": {},
   "source": [
    "##### 토큰나이저\n",
    "컴퓨터는 숫자만을 다룰 수 있으므로 텍스트 데이터를 숫자화하는 작업을 말하는 것으로, 일명 단어장 작성이라고도 하며, 케라스의 토큰나이저 클라스를 사용한다."
   ]
  },
  {
   "cell_type": "markdown",
   "id": "steady-flooring",
   "metadata": {},
   "source": [
    "##### 패딩(padding)\n",
    "데이터를 모델에 적용하여 학습시키기 위해서는 텐서로 변환함과 아울러 동일한 크기의 자료로 만들어야 한다. 동일한 크기를 만들기 위해 작은 데이터는 크기를 맞추기 위해 0으로 채우게 된다. 이것을 패딩이라한다."
   ]
  },
  {
   "cell_type": "markdown",
   "id": "opened-artist",
   "metadata": {},
   "source": [
    "##### Variational Dropout\n",
    "아래 그림은 일반적인 dropout과, dropout과 recurrent dropout을 동시에 사용한 것을 시각적으로 표현한 것입니다. 색이 있는 화살표는 dropout을 나타낸 것이에요. (색이 다른 것은 다른 dropout mask를 사용했다는 표시인데, 지금은 그냥 넘어가셔도 됩니다.) 우리가 현재 사용한 LSTM은 dropout과 recurrent dropout을 모두 사용했으니 오른쪽 그림과 같은 형태겠군요. 참고로 dropout과 recurrent dropout을 모두 사용한 것을 Variational Dropout이라고도 해요.\n"
   ]
  },
  {
   "cell_type": "markdown",
   "id": "direct-methodology",
   "metadata": {},
   "source": [
    "# Ⅱ. 프로세스와 주요 함수/클래스"
   ]
  },
  {
   "cell_type": "markdown",
   "id": "developmental-hierarchy",
   "metadata": {},
   "source": [
    "## 1. 프로세스\n",
    "### (1) 데이터 전처리\n",
    "① 데이터 정리 : 중복 제거, Null 제거, 텍스트 정규화와 불용어 제거   \n",
    "② 훈련/테스트 데이터 나누기 : 샘플 최대길이 확정, 시작토큰/종료토큰 추가, 훈련데이터와 테스트 데이터 분리      \n",
    "③ 정수 인코딩 : 단어장 만들기 및 정수 인코딩, 패딩하기   \n",
    "\n",
    "### (2) 모델 설계\n",
    "① seq2seq를 사용합니다.   \n",
    "② RNN 계열 중 LSTM을 사용하므로 hidden state뿐만 아니라 cell state도 사용해야 합니다.   \n",
    "③ 디코더의 예측 시퀀스에는 시작 토큰 SOS와 예측 토큰 EOS를 시퀀스의 앞, 뒤로 붙입니다.   \n",
    "④ seq2seq를 구동시키면 디코더는 시작 토큰을 입력받아 예측을 시작합니다.   \n",
    "⑤ seq2seq 기본 모델과 달리, 어텐션 메커니즘을 이용해 인코더의 hidden state의 중요도를 취합한 컨텍스트 벡터를 디코더 스텝별로 계산합니다.   \n",
    "⑥ 계산된 컨텍스트 벡터를 이용해서 디코더는 다음 등장할 단어를 예측합니다.   "
   ]
  },
  {
   "cell_type": "markdown",
   "id": "colored-haiti",
   "metadata": {},
   "source": [
    "## 2. 패키지의 함수/클래스"
   ]
  },
  {
   "cell_type": "markdown",
   "id": "incredible-medicine",
   "metadata": {},
   "source": [
    "##### pandas  (데이터프레임 관련 메서드)\n",
    "- drop_duplicates() : 중복 샘플 제거   \n",
    "- isnull().sum() : Null값 확인   \n",
    "- dropna() : Null값 제거"
   ]
  },
  {
   "cell_type": "markdown",
   "id": "handy-pressing",
   "metadata": {},
   "source": [
    "##### nltk\n",
    "- 불용어(stopwords) 사전 다운로드"
   ]
  },
  {
   "cell_type": "markdown",
   "id": "basic-seller",
   "metadata": {},
   "source": [
    "##### keras\n",
    "- preprocessing.text.Tokenizer : 텍스트 데이터를 숫자화하는 클래스     \n",
    "- preprocessing.sequence.pad_sequences : 패딩작업"
   ]
  },
  {
   "cell_type": "markdown",
   "id": "nasty-option",
   "metadata": {},
   "source": [
    "##### summa\n",
    "- summarizer.summrize : 추출적 요약을 실행"
   ]
  },
  {
   "cell_type": "markdown",
   "id": "further-cursor",
   "metadata": {},
   "source": [
    "# Ⅲ. 코드(프로젝트 : 뉴스 기사 요약)"
   ]
  },
  {
   "cell_type": "markdown",
   "id": "everyday-repair",
   "metadata": {},
   "source": [
    "## 1. 데이터 수집"
   ]
  },
  {
   "cell_type": "markdown",
   "id": "greenhouse-serial",
   "metadata": {},
   "source": [
    "데이터는 아래 링크에 있는 뉴스 기사 데이터(news_summary_more.csv)를 사용하세요.\n",
    "\n",
    "sunnysai12345/News_Summary\n",
    "https://github.com/sunnysai12345/News_Summary\n",
    "\n",
    "아래의 코드로 데이터를 다운로드할 수 있어요."
   ]
  },
  {
   "cell_type": "code",
   "execution_count": null,
   "id": "technological-collective",
   "metadata": {},
   "outputs": [],
   "source": [
    "# !pip install nltk      # nltk-3.6.5\n",
    "# sudo apt-get install python3-lxml # 리눅스 명령어\n",
    "# !pip install lxml           #(4.6.4)\n",
    "# !pip install html5lib    # html5lib-1.1"
   ]
  },
  {
   "cell_type": "code",
   "execution_count": 1,
   "id": "laden-montreal",
   "metadata": {},
   "outputs": [
    {
     "name": "stderr",
     "output_type": "stream",
     "text": [
      "[nltk_data] Downloading package stopwords to /aiffel/nltk_data...\n",
      "[nltk_data]   Unzipping corpora/stopwords.zip.\n"
     ]
    },
    {
     "name": "stdout",
     "output_type": "stream",
     "text": [
      "=3\n"
     ]
    }
   ],
   "source": [
    "import nltk\n",
    "nltk.download('stopwords')\n",
    "\n",
    "import numpy as np\n",
    "import pandas as pd\n",
    "import os\n",
    "import re\n",
    "import matplotlib.pyplot as plt\n",
    "from nltk.corpus import stopwords\n",
    "from bs4 import BeautifulSoup \n",
    "from tensorflow.keras.preprocessing.text import Tokenizer \n",
    "from tensorflow.keras.preprocessing.sequence import pad_sequences\n",
    "import urllib.request\n",
    "# import lxml\n",
    "# from html5lib import html, markup\n",
    "# soup_object= BeautifulSoup(html,'lxml') # C dependent parser\n",
    "\n",
    "print('=3')"
   ]
  },
  {
   "cell_type": "code",
   "execution_count": 2,
   "id": "cardiovascular-timber",
   "metadata": {},
   "outputs": [],
   "source": [
    "# 뉴스 데이터 가져오기\n",
    "\n",
    "urllib.request.urlretrieve(\"https://raw.githubusercontent.com/sunnysai12345/News_Summary/master/news_summary_more.csv\", filename=\"news_summary_more.csv\")\n",
    "data = pd.read_csv('news_summary_more.csv', encoding='iso-8859-1')"
   ]
  },
  {
   "cell_type": "code",
   "execution_count": 3,
   "id": "configured-handle",
   "metadata": {},
   "outputs": [
    {
     "data": {
      "text/html": [
       "<div>\n",
       "<style scoped>\n",
       "    .dataframe tbody tr th:only-of-type {\n",
       "        vertical-align: middle;\n",
       "    }\n",
       "\n",
       "    .dataframe tbody tr th {\n",
       "        vertical-align: top;\n",
       "    }\n",
       "\n",
       "    .dataframe thead th {\n",
       "        text-align: right;\n",
       "    }\n",
       "</style>\n",
       "<table border=\"1\" class=\"dataframe\">\n",
       "  <thead>\n",
       "    <tr style=\"text-align: right;\">\n",
       "      <th></th>\n",
       "      <th>headlines</th>\n",
       "      <th>text</th>\n",
       "    </tr>\n",
       "  </thead>\n",
       "  <tbody>\n",
       "    <tr>\n",
       "      <th>22780</th>\n",
       "      <td>Sikh man beaten in US, told to 'go back to his...</td>\n",
       "      <td>A Sikh man was beaten up multiple times by two...</td>\n",
       "    </tr>\n",
       "    <tr>\n",
       "      <th>61806</th>\n",
       "      <td>'Wrongly' arrested Ryan conductor to sue Harya...</td>\n",
       "      <td>Bus conductor Ashok Kumar, who was arrested fo...</td>\n",
       "    </tr>\n",
       "    <tr>\n",
       "      <th>58928</th>\n",
       "      <td>Congress workers protest GST dressed up as Sho...</td>\n",
       "      <td>Congress workers in Surat dressed up as charac...</td>\n",
       "    </tr>\n",
       "    <tr>\n",
       "      <th>62935</th>\n",
       "      <td>Pak issues visas to 2,600 Sikhs ahead of Guru ...</td>\n",
       "      <td>Pakistan has granted visas to 2,600 Sikh pilgr...</td>\n",
       "    </tr>\n",
       "    <tr>\n",
       "      <th>16740</th>\n",
       "      <td>68-yr-old gets 5-yr jail for attempting to rap...</td>\n",
       "      <td>A 68-year-old man has been sentenced to five y...</td>\n",
       "    </tr>\n",
       "    <tr>\n",
       "      <th>96370</th>\n",
       "      <td>Sorry to disappoint people but I'm not pregnan...</td>\n",
       "      <td>Actress Bipasha Basu, while denying reports th...</td>\n",
       "    </tr>\n",
       "    <tr>\n",
       "      <th>89883</th>\n",
       "      <td>Bieber is role model for millennial generation...</td>\n",
       "      <td>Sarod maestro Ustad Amjad Ali Khan has said th...</td>\n",
       "    </tr>\n",
       "    <tr>\n",
       "      <th>72897</th>\n",
       "      <td>Air India will continue to add routes, planes:...</td>\n",
       "      <td>Air India's new Chairman and Managing Director...</td>\n",
       "    </tr>\n",
       "    <tr>\n",
       "      <th>61247</th>\n",
       "      <td>Can't risk women's safety: Delhi govt on Odd-E...</td>\n",
       "      <td>Delhi government, while urging the National Gr...</td>\n",
       "    </tr>\n",
       "    <tr>\n",
       "      <th>94927</th>\n",
       "      <td>US court extends civil rights protections to L...</td>\n",
       "      <td>A US Federal Court has extended civil rights p...</td>\n",
       "    </tr>\n",
       "  </tbody>\n",
       "</table>\n",
       "</div>"
      ],
      "text/plain": [
       "                                               headlines  \\\n",
       "22780  Sikh man beaten in US, told to 'go back to his...   \n",
       "61806  'Wrongly' arrested Ryan conductor to sue Harya...   \n",
       "58928  Congress workers protest GST dressed up as Sho...   \n",
       "62935  Pak issues visas to 2,600 Sikhs ahead of Guru ...   \n",
       "16740  68-yr-old gets 5-yr jail for attempting to rap...   \n",
       "96370  Sorry to disappoint people but I'm not pregnan...   \n",
       "89883  Bieber is role model for millennial generation...   \n",
       "72897  Air India will continue to add routes, planes:...   \n",
       "61247  Can't risk women's safety: Delhi govt on Odd-E...   \n",
       "94927  US court extends civil rights protections to L...   \n",
       "\n",
       "                                                    text  \n",
       "22780  A Sikh man was beaten up multiple times by two...  \n",
       "61806  Bus conductor Ashok Kumar, who was arrested fo...  \n",
       "58928  Congress workers in Surat dressed up as charac...  \n",
       "62935  Pakistan has granted visas to 2,600 Sikh pilgr...  \n",
       "16740  A 68-year-old man has been sentenced to five y...  \n",
       "96370  Actress Bipasha Basu, while denying reports th...  \n",
       "89883  Sarod maestro Ustad Amjad Ali Khan has said th...  \n",
       "72897  Air India's new Chairman and Managing Director...  \n",
       "61247  Delhi government, while urging the National Gr...  \n",
       "94927  A US Federal Court has extended civil rights p...  "
      ]
     },
     "execution_count": 3,
     "metadata": {},
     "output_type": "execute_result"
    }
   ],
   "source": [
    "data.sample(10)"
   ]
  },
  {
   "cell_type": "markdown",
   "id": "rental-blowing",
   "metadata": {},
   "source": [
    "이 데이터는 기사의 본문에 해당되는 text와 headlines 두 가지 열로 구성되어져 있다.\n",
    "\n",
    "추상적 요약을 하는 경우에는 text를 본문, headlines를 이미 요약된 데이터로 삼아서 모델을 학습할 수 있어요. 추출적 요약을 하는 경우에는 오직 text열만을 사용한다."
   ]
  },
  {
   "cell_type": "markdown",
   "id": "supposed-sixth",
   "metadata": {},
   "source": [
    "## 2. 데이터 전처리하기 "
   ]
  },
  {
   "cell_type": "markdown",
   "id": "sealed-prophet",
   "metadata": {},
   "source": [
    "실습에서 사용된 전처리를 참고하여 각자 필요하다고 생각하는 전처리를 추가 사용하여 텍스트를 정규화 또는 정제해 보세요. 만약, 불용어 제거를 선택한다면 상대적으로 길이가 짧은 요약 데이터에 대해서도 불용어를 제거하는 것이 좋을지 고민해 보세요."
   ]
  },
  {
   "cell_type": "markdown",
   "id": "headed-tulsa",
   "metadata": {},
   "source": [
    "### (1) 데이터 정리하기"
   ]
  },
  {
   "cell_type": "markdown",
   "id": "junior-developer",
   "metadata": {},
   "source": [
    "### 중복 샘플 제거"
   ]
  },
  {
   "cell_type": "code",
   "execution_count": 4,
   "id": "quantitative-comparison",
   "metadata": {},
   "outputs": [
    {
     "name": "stdout",
     "output_type": "stream",
     "text": [
      "text 열에서 중복을 배제한 유일한 샘플의 수 : 98360\n",
      "headlines 열에서 중복을 배제한 유일한 샘플의 수 : 98280\n"
     ]
    }
   ],
   "source": [
    "print('text 열에서 중복을 배제한 유일한 샘플의 수 :', data['text'].nunique())\n",
    "print('headlines 열에서 중복을 배제한 유일한 샘플의 수 :', data['headlines'].nunique())"
   ]
  },
  {
   "cell_type": "code",
   "execution_count": 5,
   "id": "moved-toronto",
   "metadata": {},
   "outputs": [
    {
     "name": "stdout",
     "output_type": "stream",
     "text": [
      "전체 샘플수 : 98360\n"
     ]
    }
   ],
   "source": [
    "# drop_duplicates()를 사용하여 중복 샘플을 제거\n",
    "# inplace=True 를 설정하면 \n",
    "# DataFrame 타입 값을 return 하지 않고 data 내부를 직접적으로 바꿉니다\n",
    "data.drop_duplicates(subset = ['text'], inplace=True)\n",
    "print('전체 샘플수 :', (len(data)))"
   ]
  },
  {
   "cell_type": "markdown",
   "id": "geological-progress",
   "metadata": {},
   "source": [
    "### NULL 값이 존재하는 샘플 제거"
   ]
  },
  {
   "cell_type": "code",
   "execution_count": 6,
   "id": "ethical-county",
   "metadata": {},
   "outputs": [
    {
     "name": "stdout",
     "output_type": "stream",
     "text": [
      "headlines    0\n",
      "text         0\n",
      "dtype: int64\n"
     ]
    }
   ],
   "source": [
    "# 데이터프레임에 Null 값이 있는지 확인\n",
    "print(data.isnull().sum())"
   ]
  },
  {
   "cell_type": "code",
   "execution_count": 7,
   "id": "unique-tuning",
   "metadata": {},
   "outputs": [
    {
     "name": "stdout",
     "output_type": "stream",
     "text": [
      "전체 샘플수 : 98360\n"
     ]
    }
   ],
   "source": [
    "data.dropna(axis=0, inplace=True)\n",
    "print('전체 샘플수 :', (len(data)))"
   ]
  },
  {
   "cell_type": "markdown",
   "id": "opponent-chambers",
   "metadata": {},
   "source": [
    "### 텍스트 정규화와 불용어 제거"
   ]
  },
  {
   "cell_type": "code",
   "execution_count": 8,
   "id": "advanced-spider",
   "metadata": {},
   "outputs": [
    {
     "name": "stdout",
     "output_type": "stream",
     "text": [
      "정규화 사전의 수:  120\n"
     ]
    }
   ],
   "source": [
    "contractions = {\"ain't\": \"is not\", \"aren't\": \"are not\",\"can't\": \"cannot\", \"'cause\": \"because\", \"could've\": \"could have\", \"couldn't\": \"could not\",\n",
    "                           \"didn't\": \"did not\",  \"doesn't\": \"does not\", \"don't\": \"do not\", \"hadn't\": \"had not\", \"hasn't\": \"has not\", \"haven't\": \"have not\",\n",
    "                           \"he'd\": \"he would\",\"he'll\": \"he will\", \"he's\": \"he is\", \"how'd\": \"how did\", \"how'd'y\": \"how do you\", \"how'll\": \"how will\", \"how's\": \"how is\",\n",
    "                           \"I'd\": \"I would\", \"I'd've\": \"I would have\", \"I'll\": \"I will\", \"I'll've\": \"I will have\",\"I'm\": \"I am\", \"I've\": \"I have\", \"i'd\": \"i would\",\n",
    "                           \"i'd've\": \"i would have\", \"i'll\": \"i will\",  \"i'll've\": \"i will have\",\"i'm\": \"i am\", \"i've\": \"i have\", \"isn't\": \"is not\", \"it'd\": \"it would\",\n",
    "                           \"it'd've\": \"it would have\", \"it'll\": \"it will\", \"it'll've\": \"it will have\",\"it's\": \"it is\", \"let's\": \"let us\", \"ma'am\": \"madam\",\n",
    "                           \"mayn't\": \"may not\", \"might've\": \"might have\",\"mightn't\": \"might not\",\"mightn't've\": \"might not have\", \"must've\": \"must have\",\n",
    "                           \"mustn't\": \"must not\", \"mustn't've\": \"must not have\", \"needn't\": \"need not\", \"needn't've\": \"need not have\",\"o'clock\": \"of the clock\",\n",
    "                           \"oughtn't\": \"ought not\", \"oughtn't've\": \"ought not have\", \"shan't\": \"shall not\", \"sha'n't\": \"shall not\", \"shan't've\": \"shall not have\",\n",
    "                           \"she'd\": \"she would\", \"she'd've\": \"she would have\", \"she'll\": \"she will\", \"she'll've\": \"she will have\", \"she's\": \"she is\",\n",
    "                           \"should've\": \"should have\", \"shouldn't\": \"should not\", \"shouldn't've\": \"should not have\", \"so've\": \"so have\",\"so's\": \"so as\",\n",
    "                           \"this's\": \"this is\",\"that'd\": \"that would\", \"that'd've\": \"that would have\", \"that's\": \"that is\", \"there'd\": \"there would\",\n",
    "                           \"there'd've\": \"there would have\", \"there's\": \"there is\", \"here's\": \"here is\",\"they'd\": \"they would\", \"they'd've\": \"they would have\",\n",
    "                           \"they'll\": \"they will\", \"they'll've\": \"they will have\", \"they're\": \"they are\", \"they've\": \"they have\", \"to've\": \"to have\",\n",
    "                           \"wasn't\": \"was not\", \"we'd\": \"we would\", \"we'd've\": \"we would have\", \"we'll\": \"we will\", \"we'll've\": \"we will have\", \"we're\": \"we are\",\n",
    "                           \"we've\": \"we have\", \"weren't\": \"were not\", \"what'll\": \"what will\", \"what'll've\": \"what will have\", \"what're\": \"what are\",\n",
    "                           \"what's\": \"what is\", \"what've\": \"what have\", \"when's\": \"when is\", \"when've\": \"when have\", \"where'd\": \"where did\", \"where's\": \"where is\",\n",
    "                           \"where've\": \"where have\", \"who'll\": \"who will\", \"who'll've\": \"who will have\", \"who's\": \"who is\", \"who've\": \"who have\",\n",
    "                           \"why's\": \"why is\", \"why've\": \"why have\", \"will've\": \"will have\", \"won't\": \"will not\", \"won't've\": \"will not have\",\n",
    "                           \"would've\": \"would have\", \"wouldn't\": \"would not\", \"wouldn't've\": \"would not have\", \"y'all\": \"you all\",\n",
    "                           \"y'all'd\": \"you all would\",\"y'all'd've\": \"you all would have\",\"y'all're\": \"you all are\",\"y'all've\": \"you all have\",\n",
    "                           \"you'd\": \"you would\", \"you'd've\": \"you would have\", \"you'll\": \"you will\", \"you'll've\": \"you will have\",\n",
    "                           \"you're\": \"you are\", \"you've\": \"you have\"}\n",
    "\n",
    "print(\"정규화 사전의 수: \", len(contractions))"
   ]
  },
  {
   "cell_type": "code",
   "execution_count": 9,
   "id": "located-internship",
   "metadata": {},
   "outputs": [
    {
     "name": "stdout",
     "output_type": "stream",
     "text": [
      "불용어 개수 : 179\n",
      "['i', 'me', 'my', 'myself', 'we', 'our', 'ours', 'ourselves', 'you', \"you're\", \"you've\", \"you'll\", \"you'd\", 'your', 'yours', 'yourself', 'yourselves', 'he', 'him', 'his', 'himself', 'she', \"she's\", 'her', 'hers', 'herself', 'it', \"it's\", 'its', 'itself', 'they', 'them', 'their', 'theirs', 'themselves', 'what', 'which', 'who', 'whom', 'this', 'that', \"that'll\", 'these', 'those', 'am', 'is', 'are', 'was', 'were', 'be', 'been', 'being', 'have', 'has', 'had', 'having', 'do', 'does', 'did', 'doing', 'a', 'an', 'the', 'and', 'but', 'if', 'or', 'because', 'as', 'until', 'while', 'of', 'at', 'by', 'for', 'with', 'about', 'against', 'between', 'into', 'through', 'during', 'before', 'after', 'above', 'below', 'to', 'from', 'up', 'down', 'in', 'out', 'on', 'off', 'over', 'under', 'again', 'further', 'then', 'once', 'here', 'there', 'when', 'where', 'why', 'how', 'all', 'any', 'both', 'each', 'few', 'more', 'most', 'other', 'some', 'such', 'no', 'nor', 'not', 'only', 'own', 'same', 'so', 'than', 'too', 'very', 's', 't', 'can', 'will', 'just', 'don', \"don't\", 'should', \"should've\", 'now', 'd', 'll', 'm', 'o', 're', 've', 'y', 'ain', 'aren', \"aren't\", 'couldn', \"couldn't\", 'didn', \"didn't\", 'doesn', \"doesn't\", 'hadn', \"hadn't\", 'hasn', \"hasn't\", 'haven', \"haven't\", 'isn', \"isn't\", 'ma', 'mightn', \"mightn't\", 'mustn', \"mustn't\", 'needn', \"needn't\", 'shan', \"shan't\", 'shouldn', \"shouldn't\", 'wasn', \"wasn't\", 'weren', \"weren't\", 'won', \"won't\", 'wouldn', \"wouldn't\"]\n"
     ]
    }
   ],
   "source": [
    "print('불용어 개수 :', len(stopwords.words('english') ))\n",
    "print(stopwords.words('english'))"
   ]
  },
  {
   "cell_type": "code",
   "execution_count": 10,
   "id": "capital-lobby",
   "metadata": {},
   "outputs": [],
   "source": [
    "# 데이터 전처리 함수\n",
    "def preprocess_sentence(sentence, remove_stopwords=True):\n",
    "    sentence = sentence.lower() # 텍스트 소문자화\n",
    "    sentence = BeautifulSoup(sentence, \"lxml\").text # <br />, <a href = ...> 등의 html 태그 제거\n",
    "    sentence = re.sub(r'\\([^)]*\\)', '', sentence) # 괄호로 닫힌 문자열 (...) 제거 Ex) my husband (and myself!) for => my husband for\n",
    "    sentence = re.sub('\"','', sentence) # 쌍따옴표 \" 제거\n",
    "    sentence = ' '.join([contractions[t] if t in contractions else t for t in sentence.split(\" \")]) # 약어 정규화\n",
    "    sentence = re.sub(r\"'s\\b\",\"\", sentence) # 소유격 제거. Ex) roland's -> roland\n",
    "    sentence = re.sub(\"[^a-zA-Z]\", \" \", sentence) # 영어 외 문자(숫자, 특수문자 등) 공백으로 변환\n",
    "    sentence = re.sub('[m]{2,}', 'mm', sentence) # m이 3개 이상이면 2개로 변경. Ex) ummmmmmm yeah -> umm yeah\n",
    "    \n",
    "    # 불용어 제거 (Text)\n",
    "    if remove_stopwords:\n",
    "        tokens = ' '.join(word for word in sentence.split() if not word in stopwords.words('english') if len(word) > 1)\n",
    "    # 불용어 미제거 (Summary)\n",
    "    else:\n",
    "        tokens = ' '.join(word for word in sentence.split() if len(word) > 1)\n",
    "    return tokens"
   ]
  },
  {
   "cell_type": "code",
   "execution_count": 11,
   "id": "unusual-location",
   "metadata": {},
   "outputs": [
    {
     "name": "stdout",
     "output_type": "stream",
     "text": [
      "everything bought great infact ordered twice third ordered wasfor mother father\n",
      "great way to start the day\n"
     ]
    }
   ],
   "source": [
    "# 데이터 전처리함수 preprocess_sentence()를 테스트\n",
    "temp_text = 'Everything I bought was great, infact I ordered twice and the third ordered was<br />for my mother and father.'\n",
    "temp_summary = 'Great way to start (or finish) the day!!!'\n",
    "\n",
    "print(preprocess_sentence(temp_text))\n",
    "print(preprocess_sentence(temp_summary, False))  # 불용어를 제거하지 않습니다."
   ]
  },
  {
   "cell_type": "code",
   "execution_count": 12,
   "id": "comparative-message",
   "metadata": {},
   "outputs": [
    {
     "name": "stdout",
     "output_type": "stream",
     "text": [
      "['saurav kant alumnus upgrad iiit pg program machine learning artificial intelligence sr systems engineer infosys almost years work experience program upgrad degree career support helped transition data scientist tech mahindra salary hike upgrad online power learning powered lakh careers', 'kunal shah credit card bill payment platform cred gave users chance win free food swiggy one year pranav kaushik delhi techie bagged reward spending cred coins users get one cred coin per rupee bill paid used avail rewards brands like ixigo bookmyshow ubereats cult fit', 'new zealand defeated india wickets fourth odi hamilton thursday win first match five match odi series india lost international match rohit sharma captaincy consecutive victories dating back march match witnessed india getting seventh lowest total odi cricket history', 'aegon life iterm insurance plan customers enjoy tax benefits premiums paid save taxes plan provides life cover age years also customers options insure critical illnesses disability accidental death benefit rider life cover age years', 'speaking sexual harassment allegations rajkumar hirani sonam kapoor said known hirani many years true metoo movement get derailed metoo movement always believe woman case need reserve judgment added hirani accused assistant worked sanju']\n",
      "['upgrad learner switches to career in ml al with salary hike', 'delhi techie wins free food from swiggy for one year on cred', 'new zealand end rohit sharma led india match winning streak', 'aegon life iterm insurance plan helps customers save tax', 'have known hirani for yrs what if metoo claims are not true sonam']\n"
     ]
    }
   ],
   "source": [
    "clean_text = []\n",
    "# 전체 Text 데이터에 대한 전처리 : 10분 이상 시간이 걸릴 수 있습니다. \n",
    "for s in data['text']:\n",
    "    clean_text.append(preprocess_sentence(s))\n",
    "\n",
    "# 전처리 후 출력\n",
    "print(clean_text[:5])\n",
    "\n",
    "\n",
    "clean_headlines = []\n",
    "# 전체 Summary 데이터에 대한 전처리 : 5분 이상 시간이 걸릴 수 있습니다. \n",
    "for s in data['headlines']:\n",
    "    clean_headlines.append(preprocess_sentence(s, False))\n",
    "\n",
    "print(clean_headlines[:5])"
   ]
  },
  {
   "cell_type": "code",
   "execution_count": 13,
   "id": "binary-damages",
   "metadata": {},
   "outputs": [
    {
     "data": {
      "text/plain": [
       "['saurav kant alumnus upgrad iiit pg program machine learning artificial intelligence sr systems engineer infosys almost years work experience program upgrad degree career support helped transition data scientist tech mahindra salary hike upgrad online power learning powered lakh careers']"
      ]
     },
     "execution_count": 13,
     "metadata": {},
     "output_type": "execute_result"
    }
   ],
   "source": [
    "clean_text[:1]"
   ]
  },
  {
   "cell_type": "code",
   "execution_count": 14,
   "id": "municipal-suite",
   "metadata": {},
   "outputs": [],
   "source": [
    "data['text'] = clean_text\n",
    "data['headlines'] = clean_headlines\n",
    "\n",
    "# 빈 값을 Null 값으로 변환\n",
    "data.replace('', np.nan, inplace=True)"
   ]
  },
  {
   "cell_type": "code",
   "execution_count": 15,
   "id": "burning-original",
   "metadata": {},
   "outputs": [
    {
     "data": {
      "text/plain": [
       "headlines    0\n",
       "text         0\n",
       "dtype: int64"
      ]
     },
     "execution_count": 15,
     "metadata": {},
     "output_type": "execute_result"
    }
   ],
   "source": [
    "data.isnull().sum()"
   ]
  },
  {
   "cell_type": "code",
   "execution_count": 16,
   "id": "gentle-absorption",
   "metadata": {},
   "outputs": [
    {
     "name": "stdout",
     "output_type": "stream",
     "text": [
      "전체 샘플수 : 98360\n"
     ]
    }
   ],
   "source": [
    "data.dropna(axis=0, inplace=True)\n",
    "print('전체 샘플수 :', (len(data)))"
   ]
  },
  {
   "cell_type": "markdown",
   "id": "growing-english",
   "metadata": {},
   "source": [
    "### (2) 훈련데이터와 테스트데이터 나누기"
   ]
  },
  {
   "cell_type": "markdown",
   "id": "sapphire-yacht",
   "metadata": {},
   "source": [
    "### 샘플의 최대 길이 정하기"
   ]
  },
  {
   "cell_type": "code",
   "execution_count": 17,
   "id": "popular-seating",
   "metadata": {},
   "outputs": [
    {
     "name": "stdout",
     "output_type": "stream",
     "text": [
      "텍스트의 최소 길이 : 1\n",
      "텍스트의 최대 길이 : 60\n",
      "텍스트의 평균 길이 : 35.09968483123221\n",
      "요약의 최소 길이 : 1\n",
      "요약의 최대 길이 : 16\n",
      "요약의 평균 길이 : 9.299532330215534\n"
     ]
    },
    {
     "data": {
      "image/png": "[encoded data removed]",
      "text/plain": [
       "<Figure size 432x288 with 2 Axes>"
      ]
     },
     "metadata": {
      "needs_background": "light"
     },
     "output_type": "display_data"
    },
    {
     "data": {
      "image/png": "[encoded data removed]",
      "text/plain": [
       "<Figure size 432x288 with 1 Axes>"
      ]
     },
     "metadata": {
      "needs_background": "light"
     },
     "output_type": "display_data"
    },
    {
     "data": {
      "image/png": "[encoded data removed]",
      "text/plain": [
       "<Figure size 432x288 with 1 Axes>"
      ]
     },
     "metadata": {
      "needs_background": "light"
     },
     "output_type": "display_data"
    }
   ],
   "source": [
    "# 길이 분포 출력\n",
    "import matplotlib.pyplot as plt\n",
    "\n",
    "text_len = [len(s.split()) for s in data['text']]\n",
    "summary_len = [len(s.split()) for s in data['headlines']]\n",
    "\n",
    "print('텍스트의 최소 길이 : {}'.format(np.min(text_len)))\n",
    "print('텍스트의 최대 길이 : {}'.format(np.max(text_len)))\n",
    "print('텍스트의 평균 길이 : {}'.format(np.mean(text_len)))\n",
    "print('요약의 최소 길이 : {}'.format(np.min(summary_len)))\n",
    "print('요약의 최대 길이 : {}'.format(np.max(summary_len)))\n",
    "print('요약의 평균 길이 : {}'.format(np.mean(summary_len)))\n",
    "\n",
    "plt.subplot(1,2,1)\n",
    "plt.boxplot(summary_len)\n",
    "plt.title('Summary')\n",
    "plt.subplot(1,2,2)\n",
    "plt.boxplot(text_len)\n",
    "plt.title('Text')\n",
    "plt.tight_layout()\n",
    "plt.show()\n",
    "\n",
    "plt.title('Summary')\n",
    "plt.hist(summary_len, bins = 40)\n",
    "plt.xlabel('length of samples')\n",
    "plt.ylabel('number of samples')\n",
    "plt.show()\n",
    "\n",
    "plt.title('Text')\n",
    "plt.hist(text_len, bins = 40)\n",
    "plt.xlabel('length of samples')\n",
    "plt.ylabel('number of samples')\n",
    "plt.show()"
   ]
  },
  {
   "cell_type": "markdown",
   "id": "australian-field",
   "metadata": {},
   "source": [
    "- text : 이상치를 제외하면 25에서 45의 길이의 분포. 평균 35이고 예외적으로 작은 1과 60은 의미있는 영향을 주지 않을 것으로 봄.   \n",
    "- headlines의 경우 최소 길이가 1, 최대 길이가 16, 그리고 평균 길이가 9로 Text에 비해 상대적으로 길이가 매우 짧아요. 그래프로 봤을 때에도 대체적으로 10이하의 길이를 한도로 정함."
   ]
  },
  {
   "cell_type": "code",
   "execution_count": 18,
   "id": "radio-contact",
   "metadata": {},
   "outputs": [],
   "source": [
    "#  Text의 최대 길이와 Summary의 적절한 최대 길이를 임의로 정함.\n",
    "text_max_len = 42\n",
    "summary_max_len = 10"
   ]
  },
  {
   "cell_type": "code",
   "execution_count": 19,
   "id": "surrounded-childhood",
   "metadata": {},
   "outputs": [],
   "source": [
    "def below_threshold_len(max_len, nested_list):\n",
    "    cnt = 0\n",
    "    for s in nested_list:\n",
    "        if(len(s.split()) <= max_len):\n",
    "            cnt = cnt + 1\n",
    "    print('전체 샘플 중 길이가 %s 이하인 샘플의 비율: %s'%(max_len, (cnt / len(nested_list))))"
   ]
  },
  {
   "cell_type": "code",
   "execution_count": 20,
   "id": "hundred-horror",
   "metadata": {},
   "outputs": [
    {
     "name": "stdout",
     "output_type": "stream",
     "text": [
      "전체 샘플 중 길이가 42 이하인 샘플의 비율: 0.9750305002033347\n",
      "전체 샘플 중 길이가 10 이하인 샘플의 비율: 0.8162972753151687\n"
     ]
    }
   ],
   "source": [
    "'''\n",
    "# below_threshold_len()함수를 Text와 Summary에 적용해 \n",
    "# 우리가 결정한 임의의 길이가 몇%의 샘플까지 포함하는지 확인\n",
    "'''\n",
    "below_threshold_len(text_max_len, data['text'])\n",
    "below_threshold_len(summary_max_len,  data['headlines'])"
   ]
  },
  {
   "cell_type": "code",
   "execution_count": 21,
   "id": "narrow-screening",
   "metadata": {},
   "outputs": [
    {
     "name": "stdout",
     "output_type": "stream",
     "text": [
      "전체 샘플수 : 78292\n"
     ]
    }
   ],
   "source": [
    "'''\n",
    "정해진 길이보다 길면 제외하는 방법으로 데이터를 정제\n",
    "'''\n",
    "data = data[data['text'].apply(lambda x: len(x.split()) <= text_max_len)]\n",
    "data = data[data['headlines'].apply(lambda x: len(x.split()) <= summary_max_len)]\n",
    "print('전체 샘플수 :', (len(data)))"
   ]
  },
  {
   "cell_type": "markdown",
   "id": "golden-electronics",
   "metadata": {},
   "source": [
    "### 시작 토큰과 종료 토큰 추가하기\n",
    "seq2seq 훈련을 위해서는 디코더의 입력과 레이블에 시작 토큰과 종료 토큰을 추가"
   ]
  },
  {
   "cell_type": "markdown",
   "id": "certain-vector",
   "metadata": {},
   "source": [
    "- 시작 토큰은 sostoken, 종료 토큰은 eostoken이라 임의로 명명하고 앞, 뒤로 추가    \n",
    "- 디코더의 입력에 해당하면서 시작 토큰이 맨 앞에 있는 문장의 이름을 decoder_input, 디코더의 출력 또는 레이블에 해당되면서 종료 토큰이 맨 뒤에 붙는 문장의 이름을 decoder_target이라고 이름을 정함.   \n",
    "- 두 개의 문장 모두 Summary 열로부터 만듬"
   ]
  },
  {
   "cell_type": "code",
   "execution_count": 22,
   "id": "opposite-immunology",
   "metadata": {},
   "outputs": [
    {
     "data": {
      "text/html": [
       "<div>\n",
       "<style scoped>\n",
       "    .dataframe tbody tr th:only-of-type {\n",
       "        vertical-align: middle;\n",
       "    }\n",
       "\n",
       "    .dataframe tbody tr th {\n",
       "        vertical-align: top;\n",
       "    }\n",
       "\n",
       "    .dataframe thead th {\n",
       "        text-align: right;\n",
       "    }\n",
       "</style>\n",
       "<table border=\"1\" class=\"dataframe\">\n",
       "  <thead>\n",
       "    <tr style=\"text-align: right;\">\n",
       "      <th></th>\n",
       "      <th>headlines</th>\n",
       "      <th>text</th>\n",
       "      <th>decoder_input</th>\n",
       "      <th>decoder_target</th>\n",
       "    </tr>\n",
       "  </thead>\n",
       "  <tbody>\n",
       "    <tr>\n",
       "      <th>2</th>\n",
       "      <td>new zealand end rohit sharma led india match w...</td>\n",
       "      <td>new zealand defeated india wickets fourth odi ...</td>\n",
       "      <td>sostoken new zealand end rohit sharma led indi...</td>\n",
       "      <td>new zealand end rohit sharma led india match w...</td>\n",
       "    </tr>\n",
       "    <tr>\n",
       "      <th>3</th>\n",
       "      <td>aegon life iterm insurance plan helps customer...</td>\n",
       "      <td>aegon life iterm insurance plan customers enjo...</td>\n",
       "      <td>sostoken aegon life iterm insurance plan helps...</td>\n",
       "      <td>aegon life iterm insurance plan helps customer...</td>\n",
       "    </tr>\n",
       "    <tr>\n",
       "      <th>5</th>\n",
       "      <td>rahat fateh ali khan denies getting notice for...</td>\n",
       "      <td>pakistani singer rahat fateh ali khan denied r...</td>\n",
       "      <td>sostoken rahat fateh ali khan denies getting n...</td>\n",
       "      <td>rahat fateh ali khan denies getting notice for...</td>\n",
       "    </tr>\n",
       "    <tr>\n",
       "      <th>9</th>\n",
       "      <td>cong wins ramgarh bypoll in rajasthan takes to...</td>\n",
       "      <td>congress candidate shafia zubair ramgarh assem...</td>\n",
       "      <td>sostoken cong wins ramgarh bypoll in rajasthan...</td>\n",
       "      <td>cong wins ramgarh bypoll in rajasthan takes to...</td>\n",
       "    </tr>\n",
       "    <tr>\n",
       "      <th>10</th>\n",
       "      <td>up cousins fed human excreta for friendship wi...</td>\n",
       "      <td>two minor cousins uttar pradesh gorakhpur alle...</td>\n",
       "      <td>sostoken up cousins fed human excreta for frie...</td>\n",
       "      <td>up cousins fed human excreta for friendship wi...</td>\n",
       "    </tr>\n",
       "  </tbody>\n",
       "</table>\n",
       "</div>"
      ],
      "text/plain": [
       "                                            headlines  \\\n",
       "2   new zealand end rohit sharma led india match w...   \n",
       "3   aegon life iterm insurance plan helps customer...   \n",
       "5   rahat fateh ali khan denies getting notice for...   \n",
       "9   cong wins ramgarh bypoll in rajasthan takes to...   \n",
       "10  up cousins fed human excreta for friendship wi...   \n",
       "\n",
       "                                                 text  \\\n",
       "2   new zealand defeated india wickets fourth odi ...   \n",
       "3   aegon life iterm insurance plan customers enjo...   \n",
       "5   pakistani singer rahat fateh ali khan denied r...   \n",
       "9   congress candidate shafia zubair ramgarh assem...   \n",
       "10  two minor cousins uttar pradesh gorakhpur alle...   \n",
       "\n",
       "                                        decoder_input  \\\n",
       "2   sostoken new zealand end rohit sharma led indi...   \n",
       "3   sostoken aegon life iterm insurance plan helps...   \n",
       "5   sostoken rahat fateh ali khan denies getting n...   \n",
       "9   sostoken cong wins ramgarh bypoll in rajasthan...   \n",
       "10  sostoken up cousins fed human excreta for frie...   \n",
       "\n",
       "                                       decoder_target  \n",
       "2   new zealand end rohit sharma led india match w...  \n",
       "3   aegon life iterm insurance plan helps customer...  \n",
       "5   rahat fateh ali khan denies getting notice for...  \n",
       "9   cong wins ramgarh bypoll in rajasthan takes to...  \n",
       "10  up cousins fed human excreta for friendship wi...  "
      ]
     },
     "execution_count": 22,
     "metadata": {},
     "output_type": "execute_result"
    }
   ],
   "source": [
    "'''\n",
    "# 요약 데이터에는 시작 토큰과 종료 토큰을 추가한다.\n",
    "'''\n",
    "data['decoder_input'] = data['headlines'].apply(lambda x : 'sostoken '+ x)\n",
    "data['decoder_target'] = data['headlines'].apply(lambda x : x + ' eostoken')\n",
    "data.head()"
   ]
  },
  {
   "cell_type": "code",
   "execution_count": 23,
   "id": "fatty-perth",
   "metadata": {},
   "outputs": [],
   "source": [
    "'''\n",
    "인코더의 입력, 디코더의 입력과 레이블을 각각 다시 Numpy 타입으로 저장\n",
    "'''\n",
    "encoder_input = np.array(data['text']) # 인코더의 입력\n",
    "decoder_input = np.array(data['decoder_input']) # 디코더의 입력\n",
    "decoder_target = np.array(data['decoder_target']) # 디코더의 레이블"
   ]
  },
  {
   "cell_type": "markdown",
   "id": "roman-liabilities",
   "metadata": {},
   "source": [
    "### 훈련 데이터/테스트 데이터 분리\n",
    "- 분리 패키지 이용방법과 직접 분리방법 중 직접분리 방법을 사용"
   ]
  },
  {
   "cell_type": "code",
   "execution_count": 24,
   "id": "rubber-window",
   "metadata": {},
   "outputs": [
    {
     "name": "stdout",
     "output_type": "stream",
     "text": [
      "[17379 71313 62759 ... 77086 56886 46319]\n"
     ]
    }
   ],
   "source": [
    "'''\n",
    "encoder_input과 크기와 형태가 같은 순서가 섞인 정수 시퀀스를 만듬.\n",
    "'''\n",
    "indices = np.arange(encoder_input.shape[0])\n",
    "np.random.shuffle(indices)\n",
    "print(indices)"
   ]
  },
  {
   "cell_type": "code",
   "execution_count": 25,
   "id": "devoted-digit",
   "metadata": {},
   "outputs": [],
   "source": [
    "'''\n",
    "정수 시퀀스를 이용해 다시 데이터의 샘플 순서를 정의해 주면 \n",
    "잘 섞인 샘플이 됨.\n",
    "'''\n",
    "encoder_input = encoder_input[indices]\n",
    "decoder_input = decoder_input[indices]\n",
    "decoder_target = decoder_target[indices]"
   ]
  },
  {
   "cell_type": "code",
   "execution_count": 26,
   "id": "historic-architect",
   "metadata": {},
   "outputs": [
    {
     "name": "stdout",
     "output_type": "stream",
     "text": [
      "테스트 데이터의 수 : 15658\n"
     ]
    }
   ],
   "source": [
    "'''\n",
    "섞인 데이터를 8:2의 비율로 훈련 데이터와 테스트 데이터로 분리\n",
    "전체 데이터의 크기에서 0.2를 곱해서 테스트 데이터의 크기를 정의\n",
    "\n",
    "'''\n",
    "n_of_val = int(len(encoder_input)*0.2)\n",
    "print('테스트 데이터의 수 :', n_of_val)"
   ]
  },
  {
   "cell_type": "code",
   "execution_count": 27,
   "id": "administrative-action",
   "metadata": {},
   "outputs": [
    {
     "name": "stdout",
     "output_type": "stream",
     "text": [
      "훈련 데이터의 개수 : 62634\n",
      "훈련 레이블의 개수 : 62634\n",
      "테스트 데이터의 개수 : 15658\n",
      "테스트 레이블의 개수 : 15658\n"
     ]
    }
   ],
   "source": [
    "encoder_input_train = encoder_input[:-n_of_val]\n",
    "decoder_input_train = decoder_input[:-n_of_val]\n",
    "decoder_target_train = decoder_target[:-n_of_val]\n",
    "\n",
    "encoder_input_test = encoder_input[-n_of_val:]\n",
    "decoder_input_test = decoder_input[-n_of_val:]\n",
    "decoder_target_test = decoder_target[-n_of_val:]\n",
    "\n",
    "print('훈련 데이터의 개수 :', len(encoder_input_train))\n",
    "print('훈련 레이블의 개수 :', len(decoder_input_train))\n",
    "print('테스트 데이터의 개수 :', len(encoder_input_test))\n",
    "print('테스트 레이블의 개수 :', len(decoder_input_test))"
   ]
  },
  {
   "cell_type": "markdown",
   "id": "interesting-orleans",
   "metadata": {},
   "source": [
    "### (3) 정수 인코딩"
   ]
  },
  {
   "cell_type": "markdown",
   "id": "induced-dictionary",
   "metadata": {},
   "source": [
    "### 단어 집합(vocabulary) 만들기 및 정수 인코딩\n",
    "- 기계가 텍스트를 숫자로 처리할 수 있도록 훈련 데이터와 테스트 데이터의 단어들을 모두 정수로 바꾸어 주어야 함.    \n",
    "- 단어의 정수화를 위해서는 각 단어에 고유한 정수를 맵핑하는 작업이 필요    \n",
    "- 이 과정을 단어 집합(vocabulary) 을 만든다고 표현해요. 훈련 데이터에 대해서 단어 집합을 만들어볼게요. 우선, 원문에 해당되는 encoder_input_train에 대해서 단어 집합을 만들게요."
   ]
  },
  {
   "cell_type": "code",
   "execution_count": 28,
   "id": "several-conviction",
   "metadata": {},
   "outputs": [],
   "source": [
    "'''\n",
    "Keras의 토크나이저를 사용하면, 입력된 훈련 데이터로부터 단어 집합을 만들 수 있음.\n",
    "'''\n",
    "src_tokenizer = Tokenizer() # 토크나이저 정의\n",
    "src_tokenizer.fit_on_texts(encoder_input_train) # 입력된 데이터로부터 단어 집합 생성"
   ]
  },
  {
   "cell_type": "markdown",
   "id": "tropical-nirvana",
   "metadata": {},
   "source": [
    "- 생성된 단어 집합은 src_tokenizer.word_index에 저장     \n",
    "- 등장 빈도수가 7회 이상인 단어들만 보유한 단어 집합   \n",
    "- src_tokenizer.word_counts.items()에는 단어와 각 단어의 등장 빈도수가 저장됨. 통계적인 정보를 얻을 수 있음."
   ]
  },
  {
   "cell_type": "code",
   "execution_count": 29,
   "id": "determined-peninsula",
   "metadata": {},
   "outputs": [
    {
     "name": "stdout",
     "output_type": "stream",
     "text": [
      "단어 집합(vocabulary)의 크기 : 63708\n",
      "등장 빈도가 6번 이하인 희귀 단어의 수: 43763\n",
      "단어 집합에서 희귀 단어를 제외시킬 경우의 단어 집합의 크기 19945\n",
      "단어 집합에서 희귀 단어의 비율: 68.69309976769009\n",
      "전체 등장 빈도에서 희귀 단어 등장 빈도 비율: 4.068208788201002\n"
     ]
    }
   ],
   "source": [
    "threshold = 7\n",
    "total_cnt = len(src_tokenizer.word_index) # 단어의 수\n",
    "rare_cnt = 0 # 등장 빈도수가 threshold보다 작은 단어의 개수를 카운트\n",
    "total_freq = 0 # 훈련 데이터의 전체 단어 빈도수 총 합\n",
    "rare_freq = 0 # 등장 빈도수가 threshold보다 작은 단어의 등장 빈도수의 총 합\n",
    "\n",
    "# 단어와 빈도수의 쌍(pair)을 key와 value로 받는다.\n",
    "for key, value in src_tokenizer.word_counts.items():\n",
    "    total_freq = total_freq + value\n",
    "\n",
    "    # 단어의 등장 빈도수가 threshold보다 작으면\n",
    "    if(value < threshold):\n",
    "        rare_cnt = rare_cnt + 1\n",
    "        rare_freq = rare_freq + value\n",
    "\n",
    "print('단어 집합(vocabulary)의 크기 :', total_cnt)\n",
    "print('등장 빈도가 %s번 이하인 희귀 단어의 수: %s'%(threshold - 1, rare_cnt))\n",
    "print('단어 집합에서 희귀 단어를 제외시킬 경우의 단어 집합의 크기 %s'%(total_cnt - rare_cnt))\n",
    "print(\"단어 집합에서 희귀 단어의 비율:\", (rare_cnt / total_cnt)*100)\n",
    "print(\"전체 등장 빈도에서 희귀 단어 등장 빈도 비율:\", (rare_freq / total_freq)*100)"
   ]
  },
  {
   "cell_type": "code",
   "execution_count": 30,
   "id": "green-perfume",
   "metadata": {},
   "outputs": [],
   "source": [
    "'''\n",
    "토크나이저를 정의할 때 num_words의 값을 정해주면, 단어 집합의 크기를 제한할 수 있음.\n",
    "'''\n",
    "src_vocab = 8000\n",
    "src_tokenizer = Tokenizer(num_words=src_vocab) # 단어 집합의 크기를 8,000으로 제한\n",
    "src_tokenizer.fit_on_texts(encoder_input_train) # 단어 집합 재생성."
   ]
  },
  {
   "cell_type": "code",
   "execution_count": 31,
   "id": "useful-scale",
   "metadata": {},
   "outputs": [
    {
     "name": "stdout",
     "output_type": "stream",
     "text": [
      "[[10, 242, 474, 344, 2032, 434, 1320, 2645, 126, 19, 193, 341, 11, 6843, 434, 119, 3, 15, 227, 3025, 334, 462, 341, 11, 6843, 573, 193, 546, 49, 674, 1699, 462, 341, 11, 6843], [1472, 1102, 6639, 2771, 198, 68, 94, 1093, 1078, 60, 2326, 8, 2326, 8, 25, 2723, 2978, 2040, 1078, 6, 1948, 667, 48, 978, 20, 174, 88, 23], [999, 1330, 2429, 628, 97, 1707, 1435, 1, 679, 626, 318, 4598, 5510, 6957, 1321, 6, 5771, 396, 951, 89, 999, 1, 612, 951, 2189, 98, 951, 1816, 1321, 197]]\n"
     ]
    }
   ],
   "source": [
    "# 텍스트 시퀀스를 정수 시퀀스로 변환\n",
    "encoder_input_train = src_tokenizer.texts_to_sequences(encoder_input_train) \n",
    "encoder_input_test = src_tokenizer.texts_to_sequences(encoder_input_test)\n",
    "\n",
    "# 잘 진행되었는지 샘플 출력\n",
    "print(encoder_input_train[:3])"
   ]
  },
  {
   "cell_type": "markdown",
   "id": "heavy-lucas",
   "metadata": {},
   "source": [
    "Summary 데이터에 대해서도 동일한 작업을 수행"
   ]
  },
  {
   "cell_type": "code",
   "execution_count": 32,
   "id": "entertaining-russian",
   "metadata": {},
   "outputs": [],
   "source": [
    "tar_tokenizer = Tokenizer()\n",
    "tar_tokenizer.fit_on_texts(decoder_input_train)"
   ]
  },
  {
   "cell_type": "code",
   "execution_count": 33,
   "id": "olive-sheep",
   "metadata": {},
   "outputs": [
    {
     "name": "stdout",
     "output_type": "stream",
     "text": [
      "단어 집합(vocabulary)의 크기 : 27943\n",
      "등장 빈도가 5번 이하인 희귀 단어의 수: 18619\n",
      "단어 집합에서 희귀 단어를 제외시킬 경우의 단어 집합의 크기 9324\n",
      "단어 집합에서 희귀 단어의 비율: 66.63207243316752\n",
      "전체 등장 빈도에서 희귀 단어 등장 빈도 비율: 5.788440333301396\n"
     ]
    }
   ],
   "source": [
    "threshold = 6\n",
    "total_cnt = len(tar_tokenizer.word_index) # 단어의 수\n",
    "rare_cnt = 0 # 등장 빈도수가 threshold보다 작은 단어의 개수를 카운트\n",
    "total_freq = 0 # 훈련 데이터의 전체 단어 빈도수 총 합\n",
    "rare_freq = 0 # 등장 빈도수가 threshold보다 작은 단어의 등장 빈도수의 총 합\n",
    "\n",
    "# 단어와 빈도수의 쌍(pair)을 key와 value로 받는다.\n",
    "for key, value in tar_tokenizer.word_counts.items():\n",
    "    total_freq = total_freq + value\n",
    "\n",
    "    # 단어의 등장 빈도수가 threshold보다 작으면\n",
    "    if(value < threshold):\n",
    "        rare_cnt = rare_cnt + 1\n",
    "        rare_freq = rare_freq + value\n",
    "\n",
    "print('단어 집합(vocabulary)의 크기 :', total_cnt)\n",
    "print('등장 빈도가 %s번 이하인 희귀 단어의 수: %s'%(threshold - 1, rare_cnt))\n",
    "print('단어 집합에서 희귀 단어를 제외시킬 경우의 단어 집합의 크기 %s'%(total_cnt - rare_cnt))\n",
    "print(\"단어 집합에서 희귀 단어의 비율:\", (rare_cnt / total_cnt)*100)\n",
    "print(\"전체 등장 빈도에서 희귀 단어 등장 빈도 비율:\", (rare_freq / total_freq)*100)"
   ]
  },
  {
   "cell_type": "code",
   "execution_count": 34,
   "id": "subjective-uniform",
   "metadata": {},
   "outputs": [
    {
     "name": "stdout",
     "output_type": "stream",
     "text": [
      "input\n",
      "input  [[1, 67, 64, 10, 322, 4, 1731, 425, 24, 91], [1, 21, 32, 16, 655, 1356], [1, 803, 1467, 845, 11], [1, 420, 56, 247, 1914, 198, 4, 102, 4], [1, 76, 888, 233, 7, 67, 449]]\n",
      "target\n",
      "decoder  [[67, 64, 10, 322, 4, 1731, 425, 24, 91, 2], [21, 32, 16, 655, 1356, 2], [803, 1467, 845, 11, 2], [420, 56, 247, 1914, 198, 4, 102, 4, 2], [76, 888, 233, 7, 67, 449, 2]]\n"
     ]
    }
   ],
   "source": [
    "tar_vocab = 2000\n",
    "tar_tokenizer = Tokenizer(num_words=tar_vocab) \n",
    "tar_tokenizer.fit_on_texts(decoder_input_train)\n",
    "tar_tokenizer.fit_on_texts(decoder_target_train)\n",
    "\n",
    "# 텍스트 시퀀스를 정수 시퀀스로 변환\n",
    "decoder_input_train = tar_tokenizer.texts_to_sequences(decoder_input_train) \n",
    "decoder_target_train = tar_tokenizer.texts_to_sequences(decoder_target_train)\n",
    "decoder_input_test = tar_tokenizer.texts_to_sequences(decoder_input_test)\n",
    "decoder_target_test = tar_tokenizer.texts_to_sequences(decoder_target_test)\n",
    "\n",
    "# 잘 변환되었는지 확인\n",
    "print('input')\n",
    "print('input ',decoder_input_train[:5])\n",
    "print('target')\n",
    "print('decoder ',decoder_target_train[:5])"
   ]
  },
  {
   "cell_type": "markdown",
   "id": "earlier-vocabulary",
   "metadata": {},
   "source": [
    "- 데이터를 정제하는 과정에서 낮은 빈도의 단어로 구성된 문장 등은 빈 샘플로 남고, 이런 샘플들은 삭제함. 길이 1도 포함(sostoken 또는 eostoken만 남은 경우임)"
   ]
  },
  {
   "cell_type": "code",
   "execution_count": 35,
   "id": "blond-paper",
   "metadata": {},
   "outputs": [
    {
     "name": "stdout",
     "output_type": "stream",
     "text": [
      "삭제할 훈련 데이터의 개수 : 9\n",
      "삭제할 테스트 데이터의 개수 : 2\n",
      "훈련 데이터의 개수 : 62625\n",
      "훈련 레이블의 개수 : 62625\n",
      "테스트 데이터의 개수 : 15656\n",
      "테스트 레이블의 개수 : 15656\n"
     ]
    },
    {
     "name": "stderr",
     "output_type": "stream",
     "text": [
      "/opt/conda/lib/python3.7/site-packages/numpy/core/_asarray.py:83: VisibleDeprecationWarning: Creating an ndarray from ragged nested sequences (which is a list-or-tuple of lists-or-tuples-or ndarrays with different lengths or shapes) is deprecated. If you meant to do this, you must specify 'dtype=object' when creating the ndarray\n",
      "  return array(a, dtype, copy=False, order=order)\n"
     ]
    }
   ],
   "source": [
    "'''\n",
    "훈련 데이터와 테스트 데이터에 대해서 요약문의 길이가 1인 경우의 인덱스를 \n",
    "각각 drop_train과 drop_test에 라는 변수에 저장한다. \n",
    "이 샘플들은 모두 삭제할 예정이다.\n",
    "'''\n",
    "\n",
    "drop_train = [index for index, sentence in enumerate(decoder_input_train) if len(sentence) == 1]\n",
    "drop_test = [index for index, sentence in enumerate(decoder_input_test) if len(sentence) == 1]\n",
    "\n",
    "print('삭제할 훈련 데이터의 개수 :', len(drop_train))\n",
    "print('삭제할 테스트 데이터의 개수 :', len(drop_test))\n",
    "\n",
    "encoder_input_train = np.delete(encoder_input_train, drop_train, axis=0)\n",
    "decoder_input_train = np.delete(decoder_input_train, drop_train, axis=0)\n",
    "decoder_target_train = np.delete(decoder_target_train, drop_train, axis=0)\n",
    "\n",
    "encoder_input_test = np.delete(encoder_input_test, drop_test, axis=0)\n",
    "decoder_input_test = np.delete(decoder_input_test, drop_test, axis=0)\n",
    "decoder_target_test = np.delete(decoder_target_test, drop_test, axis=0)\n",
    "\n",
    "print('훈련 데이터의 개수 :', len(encoder_input_train))\n",
    "print('훈련 레이블의 개수 :', len(decoder_input_train))\n",
    "print('테스트 데이터의 개수 :', len(encoder_input_test))\n",
    "print('테스트 레이블의 개수 :', len(decoder_input_test))"
   ]
  },
  {
   "cell_type": "markdown",
   "id": "specialized-pontiac",
   "metadata": {},
   "source": [
    "### 패딩하기"
   ]
  },
  {
   "cell_type": "code",
   "execution_count": 36,
   "id": "subsequent-wisconsin",
   "metadata": {},
   "outputs": [],
   "source": [
    "'''\n",
    "서로 다른 길이의 샘플들을 병렬 처리하기 위해 \n",
    "같은 길이로 맞춰주는 패딩 작업\n",
    "'''\n",
    "encoder_input_train = pad_sequences(encoder_input_train, maxlen=text_max_len, padding='post')\n",
    "encoder_input_test = pad_sequences(encoder_input_test, maxlen=text_max_len, padding='post')\n",
    "decoder_input_train = pad_sequences(decoder_input_train, maxlen=summary_max_len, padding='post')\n",
    "decoder_target_train = pad_sequences(decoder_target_train, maxlen=summary_max_len, padding='post')\n",
    "decoder_input_test = pad_sequences(decoder_input_test, maxlen=summary_max_len, padding='post')\n",
    "decoder_target_test = pad_sequences(decoder_target_test, maxlen=summary_max_len, padding='post')"
   ]
  },
  {
   "cell_type": "markdown",
   "id": "copyrighted-struggle",
   "metadata": {},
   "source": [
    "## 3. 어텐션 메커니즘 사용하기 (추상적 요약)"
   ]
  },
  {
   "cell_type": "markdown",
   "id": "genuine-party",
   "metadata": {},
   "source": [
    "일반적인 seq2seq보다는 어텐션 메커니즘을 사용한 seq2seq를 사용하는 것이 더 나은 성능을 얻을 수 있어요. 실습 내용을 참고하여 어텐션 메커니즘을 사용한 seq2seq를 설계해 보세요."
   ]
  },
  {
   "cell_type": "markdown",
   "id": "spatial-trail",
   "metadata": {},
   "source": [
    "### (1) 모델 설계하기"
   ]
  },
  {
   "cell_type": "markdown",
   "id": "painted-hanging",
   "metadata": {},
   "source": [
    "### 1) seq2seq 모델"
   ]
  },
  {
   "cell_type": "markdown",
   "id": "strong-trial",
   "metadata": {},
   "source": [
    "##### 인코더 설계\n",
    "- 임베딩 벡터 차원 : 128\n",
    "- hidden state : 256\n",
    "- LSTM layer : 3\n",
    "- Variational Dropout : dropout/recurrentdropout(0.4), time step"
   ]
  },
  {
   "cell_type": "code",
   "execution_count": 37,
   "id": "measured-british",
   "metadata": {},
   "outputs": [
    {
     "name": "stdout",
     "output_type": "stream",
     "text": [
      "WARNING:tensorflow:Layer lstm will not use cuDNN kernel since it doesn't meet the cuDNN kernel criteria. It will use generic GPU kernel as fallback when running on GPU\n",
      "WARNING:tensorflow:Layer lstm_1 will not use cuDNN kernel since it doesn't meet the cuDNN kernel criteria. It will use generic GPU kernel as fallback when running on GPU\n",
      "WARNING:tensorflow:Layer lstm_2 will not use cuDNN kernel since it doesn't meet the cuDNN kernel criteria. It will use generic GPU kernel as fallback when running on GPU\n"
     ]
    }
   ],
   "source": [
    "from tensorflow.keras.layers import Input, LSTM, Embedding, Dense, Concatenate\n",
    "from tensorflow.keras.models import Model\n",
    "from tensorflow.keras.callbacks import EarlyStopping, ModelCheckpoint\n",
    "\n",
    "\n",
    "# 인코더 설계 시작\n",
    "embedding_dim = 128\n",
    "hidden_size = 256\n",
    "\n",
    "# 인코더\n",
    "encoder_inputs = Input(shape=(text_max_len,))\n",
    "\n",
    "# 인코더의 임베딩 층\n",
    "enc_emb = Embedding(src_vocab, embedding_dim)(encoder_inputs)\n",
    "\n",
    "# 인코더의 LSTM 1\n",
    "encoder_lstm1 = LSTM(hidden_size, return_sequences=True, return_state=True ,dropout = 0.4, recurrent_dropout = 0.4)\n",
    "encoder_output1, state_h1, state_c1 = encoder_lstm1(enc_emb)\n",
    "\n",
    "# 인코더의 LSTM 2\n",
    "encoder_lstm2 = LSTM(hidden_size, return_sequences=True, return_state=True, dropout=0.4, recurrent_dropout=0.4)\n",
    "encoder_output2, state_h2, state_c2 = encoder_lstm2(encoder_output1)\n",
    "\n",
    "# 인코더의 LSTM 3\n",
    "encoder_lstm3 = LSTM(hidden_size, return_state=True, return_sequences=True, dropout=0.4, recurrent_dropout=0.4)\n",
    "encoder_outputs, state_h, state_c= encoder_lstm3(encoder_output2)"
   ]
  },
  {
   "cell_type": "markdown",
   "id": "neutral-oasis",
   "metadata": {},
   "source": [
    "##### 디코더의 임베딩 층과 LSTM을 설계\n",
    "- 인코더의 LSTM 설계와 거의 동일\n",
    "- initial_state의 인자값 : 인코더의 hidden state와 cell state의 값을 부여\n",
    "\n",
    "##### 디코더의 출력층\n",
    "- 다중 클래스 분류 문제 : headlines의 단어장인 tar_vocab의 수많은 선택지 중 하나의 단어를 선택하는 문제     \n",
    "  ☞ 활성화 함수 = softmax 함수"
   ]
  },
  {
   "cell_type": "code",
   "execution_count": 38,
   "id": "positive-asbestos",
   "metadata": {},
   "outputs": [
    {
     "name": "stdout",
     "output_type": "stream",
     "text": [
      "WARNING:tensorflow:Layer lstm_3 will not use cuDNN kernel since it doesn't meet the cuDNN kernel criteria. It will use generic GPU kernel as fallback when running on GPU\n",
      "Model: \"model\"\n",
      "__________________________________________________________________________________________________\n",
      "Layer (type)                    Output Shape         Param #     Connected to                     \n",
      "==================================================================================================\n",
      "input_1 (InputLayer)            [(None, 42)]         0                                            \n",
      "__________________________________________________________________________________________________\n",
      "embedding (Embedding)           (None, 42, 128)      1024000     input_1[0][0]                    \n",
      "__________________________________________________________________________________________________\n",
      "lstm (LSTM)                     [(None, 42, 256), (N 394240      embedding[0][0]                  \n",
      "__________________________________________________________________________________________________\n",
      "input_2 (InputLayer)            [(None, None)]       0                                            \n",
      "__________________________________________________________________________________________________\n",
      "lstm_1 (LSTM)                   [(None, 42, 256), (N 525312      lstm[0][0]                       \n",
      "__________________________________________________________________________________________________\n",
      "embedding_1 (Embedding)         (None, None, 128)    256000      input_2[0][0]                    \n",
      "__________________________________________________________________________________________________\n",
      "lstm_2 (LSTM)                   [(None, 42, 256), (N 525312      lstm_1[0][0]                     \n",
      "__________________________________________________________________________________________________\n",
      "lstm_3 (LSTM)                   [(None, None, 256),  394240      embedding_1[0][0]                \n",
      "                                                                 lstm_2[0][1]                     \n",
      "                                                                 lstm_2[0][2]                     \n",
      "__________________________________________________________________________________________________\n",
      "dense (Dense)                   (None, None, 2000)   514000      lstm_3[0][0]                     \n",
      "==================================================================================================\n",
      "Total params: 3,633,104\n",
      "Trainable params: 3,633,104\n",
      "Non-trainable params: 0\n",
      "__________________________________________________________________________________________________\n"
     ]
    }
   ],
   "source": [
    "# 디코더 설계\n",
    "decoder_inputs = Input(shape=(None,))\n",
    "\n",
    "# 디코더의 임베딩 층\n",
    "dec_emb_layer = Embedding(tar_vocab, embedding_dim)\n",
    "dec_emb = dec_emb_layer(decoder_inputs)\n",
    "\n",
    "# 디코더의 LSTM\n",
    "decoder_lstm = LSTM(hidden_size, return_sequences=True, return_state=True, dropout=0.4, recurrent_dropout=0.2)\n",
    "decoder_outputs, _, _ = decoder_lstm(dec_emb, initial_state=[state_h, state_c])\n",
    "\n",
    "# 디코더의 출력층\n",
    "decoder_softmax_layer = Dense(tar_vocab, activation='softmax')\n",
    "decoder_softmax_outputs = decoder_softmax_layer(decoder_outputs) \n",
    "\n",
    "# 모델 정의\n",
    "model = Model([encoder_inputs, decoder_inputs], decoder_softmax_outputs)\n",
    "model.summary()"
   ]
  },
  {
   "cell_type": "code",
   "execution_count": null,
   "id": "associate-swaziland",
   "metadata": {},
   "outputs": [],
   "source": []
  },
  {
   "cell_type": "markdown",
   "id": "agricultural-formula",
   "metadata": {},
   "source": [
    "### 2) 어텐션 메커니즘"
   ]
  },
  {
   "cell_type": "markdown",
   "id": "brazilian-russell",
   "metadata": {},
   "source": [
    "지금까지 설계한 것은 인코더의 hidden state와 cell state를 디코더의 초기 state로 사용하는 가장 기본적인 seq2seq다. 그런데 디코더 출력층의 설계를 살짝 바꿔서 성능을 높일 수 있는 방법이 있다! 바로 어텐션 메커니즘이다."
   ]
  },
  {
   "cell_type": "code",
   "execution_count": 39,
   "id": "consistent-storm",
   "metadata": {},
   "outputs": [],
   "source": [
    "'''\n",
    "깃허브에 공개돼 있는 어텐션 함수를 다운로드\n",
    "'''\n",
    "urllib.request.urlretrieve(\"https://raw.githubusercontent.com/thushv89/attention_keras/master/src/layers/attention.py\", filename=\"attention.py\")\n",
    "from attention import AttentionLayer"
   ]
  },
  {
   "cell_type": "code",
   "execution_count": 40,
   "id": "adult-concrete",
   "metadata": {},
   "outputs": [
    {
     "name": "stdout",
     "output_type": "stream",
     "text": [
      "Model: \"model_1\"\n",
      "__________________________________________________________________________________________________\n",
      "Layer (type)                    Output Shape         Param #     Connected to                     \n",
      "==================================================================================================\n",
      "input_1 (InputLayer)            [(None, 42)]         0                                            \n",
      "__________________________________________________________________________________________________\n",
      "embedding (Embedding)           (None, 42, 128)      1024000     input_1[0][0]                    \n",
      "__________________________________________________________________________________________________\n",
      "lstm (LSTM)                     [(None, 42, 256), (N 394240      embedding[0][0]                  \n",
      "__________________________________________________________________________________________________\n",
      "input_2 (InputLayer)            [(None, None)]       0                                            \n",
      "__________________________________________________________________________________________________\n",
      "lstm_1 (LSTM)                   [(None, 42, 256), (N 525312      lstm[0][0]                       \n",
      "__________________________________________________________________________________________________\n",
      "embedding_1 (Embedding)         (None, None, 128)    256000      input_2[0][0]                    \n",
      "__________________________________________________________________________________________________\n",
      "lstm_2 (LSTM)                   [(None, 42, 256), (N 525312      lstm_1[0][0]                     \n",
      "__________________________________________________________________________________________________\n",
      "lstm_3 (LSTM)                   [(None, None, 256),  394240      embedding_1[0][0]                \n",
      "                                                                 lstm_2[0][1]                     \n",
      "                                                                 lstm_2[0][2]                     \n",
      "__________________________________________________________________________________________________\n",
      "attention_layer (AttentionLayer ((None, None, 256),  131328      lstm_2[0][0]                     \n",
      "                                                                 lstm_3[0][0]                     \n",
      "__________________________________________________________________________________________________\n",
      "concat_layer (Concatenate)      (None, None, 512)    0           lstm_3[0][0]                     \n",
      "                                                                 attention_layer[0][0]            \n",
      "__________________________________________________________________________________________________\n",
      "dense_1 (Dense)                 (None, None, 2000)   1026000     concat_layer[0][0]               \n",
      "==================================================================================================\n",
      "Total params: 4,276,432\n",
      "Trainable params: 4,276,432\n",
      "Non-trainable params: 0\n",
      "__________________________________________________________________________________________________\n"
     ]
    }
   ],
   "source": [
    "'''\n",
    " 설계한 디코더의 출력층을 수정\n",
    "'''\n",
    "\n",
    "# 어텐션 층(어텐션 함수)\n",
    "attn_layer = AttentionLayer(name='attention_layer')\n",
    "# 인코더와 디코더의 모든 time step의 hidden state를 어텐션 층에 전달하고 결과를 리턴\n",
    "attn_out, attn_states = attn_layer([encoder_outputs, decoder_outputs])\n",
    "\n",
    "# 어텐션의 결과와 디코더의 hidden state들을 연결\n",
    "decoder_concat_input = Concatenate(axis=-1, name='concat_layer')([decoder_outputs, attn_out])\n",
    "\n",
    "# 디코더의 출력층\n",
    "decoder_softmax_layer = Dense(tar_vocab, activation='softmax')\n",
    "decoder_softmax_outputs = decoder_softmax_layer(decoder_concat_input)\n",
    "\n",
    "# 모델 정의\n",
    "model = Model([encoder_inputs, decoder_inputs], decoder_softmax_outputs)\n",
    "model.summary()"
   ]
  },
  {
   "cell_type": "markdown",
   "id": "leading-quick",
   "metadata": {},
   "source": [
    "위의 코드는 인코더의 hidden state들과 디코더의 hidden state들을 어텐션 함수의 입력으로 사용하고, 어텐션 함수가 리턴한 값을 예측 시에 디코더의 hidden state와 함께 활용하는 형태로 작동하고 있다."
   ]
  },
  {
   "cell_type": "markdown",
   "id": "miniature-going",
   "metadata": {},
   "source": [
    "### (2) 모델 훈련하기"
   ]
  },
  {
   "cell_type": "code",
   "execution_count": 41,
   "id": "spoken-bunch",
   "metadata": {},
   "outputs": [
    {
     "name": "stdout",
     "output_type": "stream",
     "text": [
      "Epoch 1/50\n",
      "245/245 [==============================] - 193s 737ms/step - loss: 4.7298 - val_loss: 4.1304\n",
      "Epoch 2/50\n",
      "245/245 [==============================] - 178s 725ms/step - loss: 4.0362 - val_loss: 3.7566\n",
      "Epoch 3/50\n",
      "245/245 [==============================] - 179s 730ms/step - loss: 3.7034 - val_loss: 3.5465\n",
      "Epoch 4/50\n",
      "245/245 [==============================] - 181s 738ms/step - loss: 3.4795 - val_loss: 3.3874\n",
      "Epoch 5/50\n",
      "245/245 [==============================] - 179s 731ms/step - loss: 3.2980 - val_loss: 3.2692\n",
      "Epoch 6/50\n",
      "245/245 [==============================] - 179s 732ms/step - loss: 3.1528 - val_loss: 3.1686\n",
      "Epoch 7/50\n",
      "245/245 [==============================] - 178s 728ms/step - loss: 3.0279 - val_loss: 3.0930\n",
      "Epoch 8/50\n",
      "245/245 [==============================] - 179s 732ms/step - loss: 2.9229 - val_loss: 3.0322\n",
      "Epoch 9/50\n",
      "245/245 [==============================] - 179s 729ms/step - loss: 2.8381 - val_loss: 2.9842\n",
      "Epoch 10/50\n",
      "245/245 [==============================] - 179s 730ms/step - loss: 2.7548 - val_loss: 2.9413\n",
      "Epoch 11/50\n",
      "245/245 [==============================] - 179s 731ms/step - loss: 2.6924 - val_loss: 2.9065\n",
      "Epoch 12/50\n",
      "245/245 [==============================] - 179s 733ms/step - loss: 2.6210 - val_loss: 2.8809\n",
      "Epoch 13/50\n",
      "245/245 [==============================] - 179s 731ms/step - loss: 2.5687 - val_loss: 2.8678\n",
      "Epoch 14/50\n",
      "245/245 [==============================] - 178s 727ms/step - loss: 2.5152 - val_loss: 2.8384\n",
      "Epoch 15/50\n",
      "245/245 [==============================] - 180s 733ms/step - loss: 2.4649 - val_loss: 2.8245\n",
      "Epoch 16/50\n",
      "245/245 [==============================] - 181s 737ms/step - loss: 2.4220 - val_loss: 2.8033\n",
      "Epoch 17/50\n",
      "245/245 [==============================] - 179s 730ms/step - loss: 2.3747 - val_loss: 2.7911\n",
      "Epoch 18/50\n",
      "245/245 [==============================] - 178s 726ms/step - loss: 2.3321 - val_loss: 2.7861\n",
      "Epoch 19/50\n",
      "245/245 [==============================] - 180s 735ms/step - loss: 2.3026 - val_loss: 2.7798\n",
      "Epoch 20/50\n",
      "245/245 [==============================] - 179s 733ms/step - loss: 2.2616 - val_loss: 2.7740\n",
      "Epoch 21/50\n",
      "245/245 [==============================] - 179s 731ms/step - loss: 2.2296 - val_loss: 2.7762\n",
      "Epoch 22/50\n",
      "245/245 [==============================] - 178s 727ms/step - loss: 2.1980 - val_loss: 2.7722\n",
      "Epoch 23/50\n",
      "245/245 [==============================] - 180s 734ms/step - loss: 2.1671 - val_loss: 2.7716\n",
      "Epoch 24/50\n",
      "245/245 [==============================] - 179s 731ms/step - loss: 2.1382 - val_loss: 2.7618\n",
      "Epoch 25/50\n",
      "245/245 [==============================] - 179s 729ms/step - loss: 2.1116 - val_loss: 2.7599\n",
      "Epoch 26/50\n",
      "245/245 [==============================] - 178s 727ms/step - loss: 2.0833 - val_loss: 2.7609\n",
      "Epoch 27/50\n",
      "245/245 [==============================] - 178s 729ms/step - loss: 2.0577 - val_loss: 2.7629\n",
      "Epoch 00027: early stopping\n"
     ]
    }
   ],
   "source": [
    "model.compile(optimizer='rmsprop', loss='sparse_categorical_crossentropy')\n",
    "es = EarlyStopping(monitor='val_loss', patience=2, verbose=1)\n",
    "history = model.fit(x=[encoder_input_train, decoder_input_train], y=decoder_target_train, \\\n",
    "          validation_data=([encoder_input_test, decoder_input_test], decoder_target_test), \\\n",
    "          batch_size=256, callbacks=[es], epochs=50)"
   ]
  },
  {
   "cell_type": "code",
   "execution_count": 42,
   "id": "instructional-profession",
   "metadata": {},
   "outputs": [
    {
     "data": {
      "image/png": "[encoded data removed]",
      "text/plain": [
       "<Figure size 432x288 with 1 Axes>"
      ]
     },
     "metadata": {
      "needs_background": "light"
     },
     "output_type": "display_data"
    }
   ],
   "source": [
    "'''\n",
    "시각화\n",
    "'''\n",
    "plt.plot(history.history['loss'], label='train')\n",
    "plt.plot(history.history['val_loss'], label='test')\n",
    "plt.legend()\n",
    "plt.show()"
   ]
  },
  {
   "cell_type": "markdown",
   "id": "suburban-understanding",
   "metadata": {},
   "source": [
    "## 4. 실제 결과와 요약문 비교하기 (추상적 요약)"
   ]
  },
  {
   "cell_type": "markdown",
   "id": "reported-volleyball",
   "metadata": {},
   "source": [
    "원래의 요약문(headlines 열)과 학습을 통해 얻은 추상적 요약의 결과를 비교해 보세요."
   ]
  },
  {
   "cell_type": "markdown",
   "id": "passing-yeast",
   "metadata": {},
   "source": [
    "### (1) 인퍼런스 모델 구현하기"
   ]
  },
  {
   "cell_type": "markdown",
   "id": "visible-jacob",
   "metadata": {},
   "source": [
    "테스트 단계에서는 정수 인덱스 행렬로 존재하던 텍스트 데이터를 실제 데이터로 복원해야 하므로, 필요한 3개의 사전을 아래와 같이 미리 준비"
   ]
  },
  {
   "cell_type": "code",
   "execution_count": 43,
   "id": "czech-montgomery",
   "metadata": {},
   "outputs": [],
   "source": [
    "# 원문 단어 집합에서 정수 -> 단어를 얻음\n",
    "src_index_to_word = src_tokenizer.index_word \n",
    "# 요약 단어 집합에서 단어 -> 정수를 얻음\n",
    "tar_word_to_index = tar_tokenizer.word_index \n",
    "# 요약 단어 집합에서 정수 -> 단어를 얻음\n",
    "tar_index_to_word = tar_tokenizer.index_word "
   ]
  },
  {
   "cell_type": "markdown",
   "id": "impressed-street",
   "metadata": {},
   "source": [
    "seq2seq는 훈련할 때와 실제 동작할 때(인퍼런스 단계)의 방식이 다르므로 그에 맞게 모델 설계를 별개로 진행해야 한다는 것, 알고 계시나요?     \n",
    "훈련 단계에서는 디코더의 입력부에 정답이 되는 문장 전체를 한꺼번에 넣고 디코더의 출력과 한 번에 비교할 수 있으므로, 인코더와 디코더를 엮은 통짜 모델 하나만 준비했습니다.  \n",
    "  \n",
    "그러나 정답 문장이 없는 인퍼런스 단계에서는 만들어야 할 문장의 길이만큼 디코더가 반복 구조로 동작해야 하기 때문에 부득이하게 인퍼런스를 위한 모델 설계를 별도로 해주어야 합니다. 이때는 인코더 모델과 디코더 모델을 분리해서 설계합니다  "
   ]
  },
  {
   "cell_type": "code",
   "execution_count": 44,
   "id": "lasting-judge",
   "metadata": {},
   "outputs": [],
   "source": [
    "'''\n",
    "인코더 모델과 디코더 모델을 분리해서 설계\n",
    "'''\n",
    "# 인코더 설계\n",
    "encoder_model = Model(inputs=encoder_inputs, outputs=[encoder_outputs, state_h, state_c])\n",
    "\n",
    "# 이전 시점의 상태들을 저장하는 텐서\n",
    "decoder_state_input_h = Input(shape=(hidden_size,))\n",
    "decoder_state_input_c = Input(shape=(hidden_size,))\n",
    "\n",
    "dec_emb2 = dec_emb_layer(decoder_inputs)\n",
    "\n",
    "'''\n",
    "문장의 다음 단어를 예측하기 위해서 초기 상태(initial_state)를 이전 시점의 상태로 사용. \n",
    "이는 뒤의 함수 decode_sequence()에 구현\n",
    "\n",
    "훈련 과정에서와 달리 \n",
    "LSTM의 리턴하는 은닉 상태와 셀 상태인 state_h와 state_c를 버리지 않음.\n",
    "'''\n",
    "decoder_outputs2, state_h2, state_c2 = decoder_lstm(\n",
    "    dec_emb2, initial_state=[decoder_state_input_h, decoder_state_input_c])"
   ]
  },
  {
   "cell_type": "code",
   "execution_count": 45,
   "id": "interior-yeast",
   "metadata": {},
   "outputs": [],
   "source": [
    "'''\n",
    "어텐션 메커니즘을 사용하는 출력층을 설계\n",
    "'''\n",
    "\n",
    "# 어텐션 함수\n",
    "decoder_hidden_state_input = Input(shape=(text_max_len, hidden_size))\n",
    "attn_out_inf, attn_states_inf = attn_layer([decoder_hidden_state_input, decoder_outputs2])\n",
    "decoder_inf_concat = Concatenate(axis=-1, name='concat')([decoder_outputs2, attn_out_inf])\n",
    "\n",
    "# 디코더의 출력층\n",
    "decoder_outputs2 = decoder_softmax_layer(decoder_inf_concat) \n",
    "\n",
    "# 최종 디코더 모델\n",
    "decoder_model = Model(\n",
    "    [decoder_inputs] + [decoder_hidden_state_input,decoder_state_input_h, decoder_state_input_c],\n",
    "    [decoder_outputs2] + [state_h2, state_c2])"
   ]
  },
  {
   "cell_type": "code",
   "execution_count": 46,
   "id": "worse-cotton",
   "metadata": {},
   "outputs": [],
   "source": [
    "'''\n",
    "인퍼런스 단계에서 단어 시퀀스를 완성하는 함수 생성\n",
    "'''\n",
    "def decode_sequence(input_seq):\n",
    "    # 입력으로부터 인코더의 상태를 얻음\n",
    "    e_out, e_h, e_c = encoder_model.predict(input_seq)\n",
    "\n",
    "     # <SOS>에 해당하는 토큰 생성\n",
    "    target_seq = np.zeros((1,1))\n",
    "    target_seq[0, 0] = tar_word_to_index['sostoken']\n",
    "\n",
    "    stop_condition = False\n",
    "    decoded_sentence = ''\n",
    "    while not stop_condition: # stop_condition이 True가 될 때까지 루프 반복\n",
    "\n",
    "        output_tokens, h, c = decoder_model.predict([target_seq] + [e_out, e_h, e_c])\n",
    "        sampled_token_index = np.argmax(output_tokens[0, -1, :])\n",
    "        sampled_token = tar_index_to_word[sampled_token_index]\n",
    "\n",
    "        if (sampled_token!='eostoken'):\n",
    "            decoded_sentence += ' '+sampled_token\n",
    "\n",
    "        #  <eos>에 도달하거나 최대 길이를 넘으면 중단.\n",
    "        if (sampled_token == 'eostoken'  or len(decoded_sentence.split()) >= (summary_max_len-1)):\n",
    "            stop_condition = True\n",
    "\n",
    "        # 길이가 1인 타겟 시퀀스를 업데이트\n",
    "        target_seq = np.zeros((1,1))\n",
    "        target_seq[0, 0] = sampled_token_index\n",
    "\n",
    "        # 상태를 업데이트 합니다.\n",
    "        e_h, e_c = h, c\n",
    "\n",
    "    return decoded_sentence"
   ]
  },
  {
   "cell_type": "markdown",
   "id": "northern-notion",
   "metadata": {},
   "source": [
    "### (2) 모델 테스트하기"
   ]
  },
  {
   "cell_type": "markdown",
   "id": "boolean-sperm",
   "metadata": {},
   "source": [
    "테스트 단계에서는 정수 시퀀스를 텍스트 시퀀스로 변환하여 결과를 확인하는 것이 편하다. 주어진 정수 시퀀스를 텍스트 시퀀스로 변환하는 함수를 만들어 보자. 함수를 만들 때, Text의 정수 시퀀스에서는 패딩을 위해 사용되는 숫자 0을 제외하고 Summary의 정수 시퀀스에서는 숫자 0, 시작 토큰의 인덱스, 종료 토큰의 인덱스를 출력에서 제외하도록 만들 거예요."
   ]
  },
  {
   "cell_type": "code",
   "execution_count": 47,
   "id": "baking-weapon",
   "metadata": {},
   "outputs": [],
   "source": [
    "'''\n",
    "주어진 정수 시퀀스를 텍스트 시퀀스로 변환하는 함수를 생성 \n",
    "\n",
    "함수를 만들 때, \n",
    "- Text의 정수 시퀀스에서는 패딩을 위해 사용되는 숫자 0을 제외하고 \n",
    "- Summary의 정수 시퀀스에서는 숫자 0, 시작 토큰의 인덱스, 종료 토큰의 인덱스를 출력에서 제외\n",
    "'''\n",
    "# 원문의 정수 시퀀스를 텍스트 시퀀스로 변환\n",
    "def seq2text(input_seq):\n",
    "    temp=''\n",
    "    for i in input_seq:\n",
    "        if (i!=0):\n",
    "            temp = temp + src_index_to_word[i]+' '\n",
    "    return temp\n",
    "\n",
    "# 요약문의 정수 시퀀스를 텍스트 시퀀스로 변환\n",
    "def seq2summary(input_seq):\n",
    "    temp=''\n",
    "    for i in input_seq:\n",
    "        if ((i!=0 and i!=tar_word_to_index['sostoken']) and i!=tar_word_to_index['eostoken']):\n",
    "            temp = temp + tar_index_to_word[i] + ' '\n",
    "    return temp"
   ]
  },
  {
   "cell_type": "code",
   "execution_count": 48,
   "id": "conceptual-butter",
   "metadata": {},
   "outputs": [
    {
     "name": "stdout",
     "output_type": "stream",
     "text": [
      "원문 : thai government threatened shut access facebook country unless removed illicit pages tuesday including video king wearing crop top footage reportedly filmed germany last year widely shared social media facebook still accessible thailand despite deadline passed \n",
      "실제 요약 : threatens facebook over king top video \n",
      "예측 요약 :  internet suspended over fb\n",
      "\n",
      "\n",
      "원문 : anupam kher said censor board act villain films rather help respect filmmakers coming across people know stop film rather facilitate film added anupam said need self regulation st century \n",
      "실제 요약 : board should not act as for films \n",
      "예측 요약 :  to cbfc\n",
      "\n",
      "\n",
      "원문 : members wimbledon park golf club voted sell year old club wimbledon organisers england tennis club million deal would see wimbledon almost triple size ground acquiring acre land golf club members receive compensation \n",
      "실제 요약 : wimbledon to buy yr old club for crore \n",
      "예측 요약 :  wimbledon match match wins wimbledon prize money\n",
      "\n",
      "\n",
      "원문 : virat kohli slammed first ever test hundred england thursday user tweeted hai kohli hi hai tweets read kohli dropped bat helmet show engagement ring india future safe kohli already nd century lady luck knock wrote another \n",
      "실제 요약 : hai kohli hai tweets user \n",
      "예측 요약 :  kohli tweets user on kohli\n",
      "\n",
      "\n",
      "원문 : television actress host tandon husband blessed baby boy per reports actress earlier took instagram announce pregnancy wrote big news pregnant trying every moment known role television show ghar par hai \n",
      "실제 요약 : tv actress with baby boy reports \n",
      "예측 요약 :  actress husband welcome baby\n",
      "\n",
      "\n",
      "원문 : video showing swimming coach girl student belt like object ahmedabad club gone viral girl parents raised complaint given coach free hand wanted win gold medal club president patel said coach suspended added \n",
      "실제 요약 : video of coach girl student goes viral \n",
      "예측 요약 :  video shows fan who to play boy\n",
      "\n",
      "\n",
      "원문 : football match greece abandoned visiting team coach oscar got injured hit toilet paper roll thrown fan home team kick fell taken hospital players left pitch match called two half hours later \n",
      "실제 요약 : football match called off after coach injured by toilet \n",
      "예측 요약 :  coach takes selfie with rival after losing\n",
      "\n",
      "\n",
      "원문 : uae monday released first pictures princess mohammed al since attempted escape earlier year seized reportedly yacht coast india taken back dubai uae said provided evidence home living family \n",
      "실제 요약 : uae shares st pictures of missing \n",
      "예측 요약 :  uae to host first ever\n",
      "\n",
      "\n",
      "원문 : south korea first lady kim cm yogi adityanath tuesday performed banks river ayodhya kim arrived india sunday four day visit already met pm narendra modi external affairs minister sushma swaraj began ayodhya tour offering tribute queen memorial \n",
      "실제 요약 : korea st performs on banks of river \n",
      "예측 요약 :  peace peace peace at india in india\n",
      "\n",
      "\n",
      "원문 : australian journalist called gautam gambhir verbal terrorist latter remarks cricketing ties pakistan help india gambhir said pakistani allowed perform india unless relations two nations improve reacting tweet user wrote attention seeking \n",
      "실제 요약 : journo calls gambhir terrorist over pak remark \n",
      "예측 요약 :  journalist slammed for remark on pak remark\n",
      "\n",
      "\n",
      "원문 : scientists uk demonstrated quantum could provide navigation without gps satellite technology device uses cool atoms extremely low temperatures measures quantum wave properties respond currently ready use ships trains large vehicles \n",
      "실제 요약 : to provide without using \n",
      "예측 요약 :  scientists use to\n",
      "\n",
      "\n",
      "원문 : nse chairman ashok chawla letter employees called technical glitch disrupted trading hours monday black event something difficult predict puts nse wrong reasons added exchange said would work improve systems avoid \n",
      "실제 요약 : black event chairman to employees \n",
      "예측 요약 :  threatens to stop people\n",
      "\n",
      "\n",
      "원문 : national level kabaddi wrestling player reportedly receiving rape threats locals village bihar caste based hatred girl said say backward caste girls start play sports girls upper caste reportedly also went police take action \n",
      "실제 요약 : national player face rape threats over \n",
      "예측 요약 :  rape accused of rape\n",
      "\n",
      "\n",
      "원문 : group alleged terrorists looted bank jammu kashmir shopian district rifle security guard bank casualties reported far comes least eight suspected terrorists robbed bank jammu kashmir district wednesday \n",
      "실제 요약 : terrorists bank from security guard \n",
      "예측 요약 :  terrorists killed in bank\n",
      "\n",
      "\n",
      "원문 : responding user tweet google burger emoji ceo sundar pichai saturday tweeted drop everything else address monday agree correct way user pointed google places cheese burger apple puts top burger emoji \n",
      "실제 요약 : google ceo responds to user tweet on \n",
      "예측 요약 :  twitter reacts to google ceo\n",
      "\n",
      "\n",
      "원문 : saudi arabia preparing report would admit saudi journalist jamal khashoggi disappeared october killed result interrogation went wrong cnn reported citing two sources source said report would likely operation carried without clearance involved held responsible \n",
      "실제 요약 : saudi to journo killed during probe report \n",
      "예측 요약 :  saudi arabia journo report\n",
      "\n",
      "\n",
      "원문 : deepika padukone salman khan star filmmaker sanjay leela bhansali upcoming film titled per reports shooting film reportedly start early next year deepika salman worked bhansali previously film could mark first collaboration two actors \n",
      "실제 요약 : deepika salman to star in reports \n",
      "예측 요약 :  deepika to star in salman reports\n",
      "\n",
      "\n",
      "원문 : door door screening carried government detected almost cases cancer across districts data published national health profile revealed telangana tamil nadu karnataka collectively accounted detected cases government screened around crore people age oral breast \n",
      "실제 요약 : govt to cancer cases \n",
      "예측 요약 :  of in medical\n",
      "\n",
      "\n",
      "원문 : tanker crashed historic coast turkish city istanbul saturday steering equipment became locked although reports casualties footage crash showed damage historic stood since th century \n",
      "실제 요약 : ship into on of \n",
      "예측 요약 :  killed as plane crashes into\n",
      "\n",
      "\n",
      "원문 : days quitting nda government seat allocation lok sabha elections former union minister led rashtriya lok party thursday joined congress bihar part upa nda said stand leadership earlier wrote resignation letter pm narendra modi \n",
      "실제 요약 : congress days after nda \n",
      "예측 요약 :  aiadmk has no political party\n",
      "\n",
      "\n",
      "원문 : researchers university central florida claim developed ai based system detect missed system uses algorithm similar face recognition identify minute particles cancer accurate identifying cancer opposed humans researchers added \n",
      "실제 요약 : ai to detect cancer with made \n",
      "예측 요약 :  ai system that can detect\n",
      "\n",
      "\n",
      "원문 : barcelona football star lionel messi wife confirmed expecting third child posted photo instagram messi two sons touching captioned family messi married june year hometown \n",
      "실제 요약 : messi to become father for the third time \n",
      "예측 요약 :  messi shares picture with daughter\n",
      "\n",
      "\n",
      "원문 : social media major facebook chief operating officer sandberg said us federal communications commission decision end net harmful sandberg said open internet critical economic opportunity emphasised internet providers able charge certain websites \n",
      "실제 요약 : decision to end net facebook \n",
      "예측 요약 :  we cannot do not facebook\n",
      "\n",
      "\n",
      "원문 : real madrid current president said spanish tennis player rafael nadal would great election real madrid presidency nadal earlier stated would like club future self confessed fan madrid based club called nadal one best real madrid world \n",
      "실제 요약 : nadal would be great as real madrid president president \n",
      "예측 요약 :  nadal is no on twitter\n",
      "\n",
      "\n",
      "원문 : indigo airlines captain landed flight safely kolkata airport saturday evening despite suffering heart attack mid air complained chest pain landing co pilot began co pilot help landed flight safely immediately rushed hospital treatment nn \n",
      "실제 요약 : pilot suffers heart attack mid air still plane \n",
      "예측 요약 :  indigo pilot catches fire at kolkata airport\n",
      "\n",
      "\n",
      "원문 : president threatened formally declare region independence spanish government continues dialogue continues spain immediately reacted statement saying central government may trigger article region autonomy drop independence bid \n",
      "실제 요약 : threatens to independence over no talks \n",
      "예측 요약 :  prez urges independence to\n",
      "\n",
      "\n",
      "원문 : liverpool forward mohamed exchanged club jersey box fan side champions league win red star final ran supporter wearing sign read come egypt \n",
      "실제 요약 : for of from fan \n"
     ]
    },
    {
     "name": "stdout",
     "output_type": "stream",
     "text": [
      "예측 요약 :  footballer scores from jersey\n",
      "\n",
      "\n",
      "원문 : scientists kilograms lab grown antarctica without two months per team employed water system led lighting monitoring carbon dioxide room hope kilograms fruits vegetables week may \n",
      "실제 요약 : in without and \n",
      "예측 요약 :  fish in river\n",
      "\n",
      "\n",
      "원문 : second quarter earnings released week technology major apple revealed billion cash securities amount kept outside us purportedly tax purposes per apple filings billion invested corporate debt billion allocated billion kept asset backed securities \n",
      "실제 요약 : where does apple keep its billion cash \n",
      "예측 요약 :  apple billion in apple now billion\n",
      "\n",
      "\n",
      "원문 : india second largest services firm infosys friday said open technology innovation hub arizona hire american workers state may infosys announced setting four hiring american workers next two years bengaluru based company hired american workers far \n",
      "실제 요약 : infosys to open tech in us by \n",
      "예측 요약 :  infosys to open new ceo\n",
      "\n",
      "\n",
      "원문 : least three people killed tuesday three attackers opened fire headquarters libya foreign ministry health ministry said two later blew third suicide bomber shot dead guards could explosive according reports \n",
      "실제 요약 : killed in suicide attack at foreign ministry \n",
      "예측 요약 :  killed injured in road accident in delhi\n",
      "\n",
      "\n",
      "원문 : two independent mlas shankar tuesday withdrew support karnataka government amid allegations poaching bjp ruling jd congress coalition decision shankar said cm hd kumaraswamy failed several cited lack understanding coalition partners reason withdrawing support \n",
      "실제 요약 : mlas support from karnataka govt \n",
      "예측 요약 :  mlas in taka assembly polls\n",
      "\n",
      "\n",
      "원문 : tamil nadu leader arrested sunday posting picture facebook portrayed prime minister narendra modi hindu bjp brought notice police lodged complaint demanding action posted picture ahead pm modi visit \n",
      "실제 요약 : leader arrested for picture showing pm modi as \n",
      "예측 요약 :  arrested for pm modi image of\n",
      "\n",
      "\n",
      "원문 : russia china monday began second stage joint sea naval drills waters near korean peninsula week long drills include submarine rescue anti submarine exercises chinese state media said comes amid increased tensions korean peninsula north korea nuclear weapons programme \n",
      "실제 요약 : russia china hold joint near korean \n",
      "예측 요약 :  russia russia joint sea joint sea\n",
      "\n",
      "\n",
      "원문 : southern railways monday said crores passengers affected floods caused kerala parts tamil nadu last year press release southern railways stated refund given passengers unable take journey lost tickets floods \n",
      "실제 요약 : railways cr to kerala floods victims \n",
      "예측 요약 :  railways to get to kerala flood victims\n",
      "\n",
      "\n",
      "원문 : manchester city extended time record win streak premier league matches thrashing tottenham saturday city points clear top points table played one match second placed manchester united results arsenal chelsea able register wins united respectively \n",
      "실제 요약 : man city to record winning run \n",
      "예측 요약 :  man city win their first goal in\n",
      "\n",
      "\n",
      "원문 : biggest fashion moments included indian representative manushi chhillar becoming miss world making india winner years law banning thin models came effect france may year meanwhile actress anushka sharma label faced controversy allegations many designs chinese commerce website \n",
      "실제 요약 : which were the biggest fashion of \n",
      "예측 요약 :  nobel winning marriage of india\n",
      "\n",
      "\n",
      "원문 : low income nations like bhutan nepal spend gdp respectively public health india according report among southeast asian nations maldives highest health expenditure meanwhile india aims increase public health expenditure gdp \n",
      "실제 요약 : nepal spend more than india on health \n",
      "예측 요약 :  nations to india in next years\n",
      "\n",
      "\n",
      "원문 : stating lot goes yoga union railway minister suresh prabhu sunday said yoga one ways knowing one self another way goals via music harmony mind body soul minister added \n",
      "실제 요약 : way to one self \n",
      "예측 요약 :  like to be\n",
      "\n",
      "\n",
      "원문 : oscar winning filmmaker roman investigation swiss police new rape allegations made woman claimed assaulted fourth woman publicly sexual assault notably fled us guilty raping year old girl \n",
      "실제 요약 : being over new allegations of raping minor \n",
      "예측 요약 :  drunk actor arrested for raping woman\n",
      "\n",
      "\n",
      "원문 : cbfc chairman joshi wrote lyrics upcoming kangana ranaut starrer manikarnika queen jhansi revealed kangana rani lakshmi key reason film talent required play role added film scheduled release january \n",
      "실제 요약 : kangana as was why did manikarnika \n",
      "예측 요약 :  kangana manikarnika to star in manikarnika director\n",
      "\n",
      "\n",
      "원문 : india rohit sharma hit th six australia setting record number sixes hit batsman opposition odis sharma went past former pakistan captain shahid afridi tally sixes hit sri lanka sharma also scored least century last odi series \n",
      "실제 요약 : rohit sets record for most against an opposition in odis \n",
      "예측 요약 :  rohit sharma hit hit in balls in sl\n",
      "\n",
      "\n",
      "원문 : singer kumar said performing gives opportunity connect indians abroad adding sometimes feel indians abroad connected indian indian music passion audience abroad different audience perform india feel connect india indian music said \n",
      "실제 요약 : indians are more to indian music \n",
      "예측 요약 :  to see indians in indian indians\n",
      "\n",
      "\n",
      "원문 : scientists discovered new classes cells human immune system new cells belong white blood cells called cells cells hold molecules producing whereas largest type white blood cells develop waste produced cells \n",
      "실제 요약 : scientists new of blood \n",
      "예측 요약 :  scientists new to human\n",
      "\n",
      "\n",
      "원문 : many cases outbreak virus reported rajasthan union health minister jp said monday seven member central team monitoring situation measures added virus mosquito causes birth problems like \n",
      "실제 요약 : cases of reported in rajasthan \n",
      "예측 요약 :  cases of in himachal\n",
      "\n",
      "\n",
      "원문 : king restaurant located inside king park taiwan made entirely including walls demonstration staff includes chef weighing kilograms sitting chair showcase anything damaged \n",
      "실제 요약 : is made of \n",
      "예측 요약 :  man gets kg of\n",
      "\n",
      "\n",
      "원문 : government tuesday withdrew haj subsidy pilgrims stating decision part agenda minorities without minority affairs minister mukhtar abbas naqvi said subsidy would used education minorities particularly girls added main crore haj subsidy air india \n",
      "실제 요약 : government withdraws for \n",
      "예측 요약 :  govt withdraws for in\n",
      "\n",
      "\n",
      "원문 : president pranab mukherjee clarified run another term country head state exactly two months go july new president office mukherjee said notably congress led opposition indicated second term mukherjee nda government \n",
      "실제 요약 : will not run for another term as president \n",
      "예측 요약 :  ex prez president resigns from\n",
      "\n",
      "\n",
      "원문 : uk financial regulator fined bank america million failing report two years worth exchange transactions bank failed report million transactions february february fine reduced bank agreed settle early stage regulator said \n",
      "실제 요약 : uk mn for rule \n",
      "예측 요약 :  uk fined cr in swiss bank case\n",
      "\n",
      "\n",
      "원문 : according reports actress husband actor sachin shroff filed divorce bandra family court couple got married dating five months reportedly staying separately year also four year old daughter currently staying \n",
      "실제 요약 : sachin file for divorce reports \n",
      "예측 요약 :  wood actress husband denies divorce reports\n",
      "\n",
      "\n"
     ]
    }
   ],
   "source": [
    "'''\n",
    "테스트 데이터 약 50개의 샘플에 대해서 실제 요약과 예측된 요약을 비교\n",
    "'''\n",
    "\n",
    "for i in range(50, 100):\n",
    "    print(\"원문 :\", seq2text(encoder_input_test[i]))\n",
    "    print(\"실제 요약 :\", seq2summary(decoder_input_test[i]))\n",
    "    print(\"예측 요약 :\", decode_sequence(encoder_input_test[i].reshape(1, text_max_len)))\n",
    "    print(\"\\n\")"
   ]
  },
  {
   "cell_type": "markdown",
   "id": "consecutive-burst",
   "metadata": {},
   "source": [
    "## 5. Summa을 이용해서 추출적 요약해보기"
   ]
  },
  {
   "cell_type": "markdown",
   "id": "approved-carpet",
   "metadata": {},
   "source": [
    "### (1) 패키지 설치 및 환경설정"
   ]
  },
  {
   "cell_type": "code",
   "execution_count": null,
   "id": "generic-clinton",
   "metadata": {},
   "outputs": [],
   "source": [
    "# !pip list | grep summa\n",
    "# !pip install summa"
   ]
  },
  {
   "cell_type": "code",
   "execution_count": null,
   "id": "expanded-orlando",
   "metadata": {},
   "outputs": [],
   "source": [
    "# mkdir -p ~/aiffel/news_summarization/data\n",
    "# ln -s ~/data/*.csv ~/aiffel/news_summarization/data"
   ]
  },
  {
   "cell_type": "markdown",
   "id": "isolated-effect",
   "metadata": {},
   "source": [
    "### (2) 데이터 다운로드"
   ]
  },
  {
   "cell_type": "code",
   "execution_count": 49,
   "id": "existing-practitioner",
   "metadata": {},
   "outputs": [],
   "source": [
    "import requests\n",
    "from summa.summarizer import summarize"
   ]
  },
  {
   "cell_type": "code",
   "execution_count": 50,
   "id": "successful-thailand",
   "metadata": {},
   "outputs": [],
   "source": [
    "'''\n",
    "매트릭스 시놉시스를 다운로드\n",
    "'''\n",
    "text = requests.get('http://rare-technologies.com/the_matrix_synopsis.txt').text"
   ]
  },
  {
   "cell_type": "code",
   "execution_count": 51,
   "id": "close-cover",
   "metadata": {},
   "outputs": [
    {
     "name": "stdout",
     "output_type": "stream",
     "text": [
      "The screen is filled with green, cascading code which gives way to the title, The Matrix.\r\n",
      "\r\n",
      "A phone rings and text appears on the screen: \"Call trans opt: received. 2-19-98 13:24:18 REC: Log>\" As a conversation takes place between Trinity (Carrie-Anne Moss) and Cypher (Joe Pantoliano), two free humans, a table of random green numbers are being scanned and individual numbers selected, creating a series of digits not unlike an ordinary phone number, as if a code is being deciphered or a call is being traced.\r\n",
      "\r\n",
      "Trinity discusses some unknown person. Cypher taunts Trinity, suggesting she enjoys watching him. Trinity counters that \"Morpheus (Laurence Fishburne) says he may be 'the One',\" just as the sound of a number being selected alerts Trinity that someone may be tracing their call. She ends the call.\r\n",
      "\r\n",
      "Armed policemen move down a darkened, decrepit hallway in the Heart O' the City Hotel, their flashlight beam bouncing just ahead of them. They come to room 303, kick down the door and find a woman dressed in black, facing away from them. It's Trinity. She brings her hands up from the laptop she's working on at their command.\r\n",
      "\r\n",
      "Outside the hotel a car drives up and three agents appear in neatly pressed black suits. They are Agent Smith (Hugo Weaving), Agent Brown (Paul Goddard), and Agent Jones (Robert Taylor). Agent Smith and the presiding police lieutenant argue. Agent Smith admonishes the policeman that they were given specific orders to contact the agents first, for their\n"
     ]
    }
   ],
   "source": [
    "print(text[:1500])"
   ]
  },
  {
   "cell_type": "markdown",
   "id": "interracial-greek",
   "metadata": {},
   "source": [
    "### (3) summarize 사용하기"
   ]
  },
  {
   "cell_type": "markdown",
   "id": "perfect-terry",
   "metadata": {},
   "source": [
    "- text (str) : 요약할 테스트.  \n",
    "- ratio (float, optional) – 요약문에서 원본에서 선택되는 문장 비율. 0~1 사이값  \n",
    "- words (int or None, optional) – 출력에 포함할 단어 수.  \n",
    "  만약, ratio와 함께 두 파라미터가 모두 제공되는 경우 ratio는 무시한다.  \n",
    "- split (bool, optional) – True면 문장 list / False는 조인(join)된 문자열을 반환  \n",
    "   \n",
    "Summa의 summarize는 문장 토큰화를 별도로 하지 않더라도 내부적으로 문장 토큰화를 수행해요. 그렇기 때문에 문장 구분이 되어있지 않은 원문을 바로 입력으로 넣을 수 있어요. 비율을 적게 주어서 요약문으로 선택되는 문장의 개수를 줄여볼게요. 원문의 0.005%만을 출력하도록 설정했어요."
   ]
  },
  {
   "cell_type": "code",
   "execution_count": 52,
   "id": "intelligent-things",
   "metadata": {},
   "outputs": [
    {
     "name": "stdout",
     "output_type": "stream",
     "text": [
      "Summary:\n",
      "Morpheus, Trinity, Neo, Apoc, Switch, Mouse and Cypher are jacked into the Matrix.\n",
      "Trinity brings the helicopter down to the floor that Morpheus is on and Neo opens fire on the three Agents.\n"
     ]
    }
   ],
   "source": [
    "'''\n",
    "비율을 적게 주어서 요약문으로 선택되는 문장의 개수를 줄여볼게요. \n",
    "원문의 0.005%만을 출력하도록 설정했어요.\n",
    "'''\n",
    "print('Summary:')\n",
    "print(summarize(text, ratio=0.005))"
   ]
  },
  {
   "cell_type": "code",
   "execution_count": 53,
   "id": "armed-shooting",
   "metadata": {},
   "outputs": [
    {
     "name": "stdout",
     "output_type": "stream",
     "text": [
      "Summary:\n",
      "['Morpheus, Trinity, Neo, Apoc, Switch, Mouse and Cypher are jacked into the Matrix.', 'Trinity brings the helicopter down to the floor that Morpheus is on and Neo opens fire on the three Agents.']\n"
     ]
    }
   ],
   "source": [
    "'''\n",
    "리스트로 출력 결과를 받고 싶다면 split 인자의 값을 True\n",
    "'''\n",
    "\n",
    "print('Summary:')\n",
    "print(summarize(text, ratio=0.005, split=True))"
   ]
  },
  {
   "cell_type": "code",
   "execution_count": 54,
   "id": "patent-transcript",
   "metadata": {},
   "outputs": [
    {
     "name": "stdout",
     "output_type": "stream",
     "text": [
      "Summary:\n",
      "Trinity takes Neo to Morpheus.\n",
      "Morpheus, Trinity, Neo, Apoc, Switch, Mouse and Cypher are jacked into the Matrix.\n",
      "Trinity brings the helicopter down to the floor that Morpheus is on and Neo opens fire on the three Agents.\n"
     ]
    }
   ],
   "source": [
    "'''\n",
    "단어의 수로 요약문의 크기를 조절할 수도 있어요. 단어를 50개만 선택\n",
    "'''\n",
    "print('Summary:')\n",
    "print(summarize(text, words=50))"
   ]
  },
  {
   "cell_type": "markdown",
   "id": "micro-prisoner",
   "metadata": {},
   "source": [
    "# Ⅳ. 결론"
   ]
  },
  {
   "cell_type": "markdown",
   "id": "ignored-reduction",
   "metadata": {},
   "source": [
    "## 1. 결과 분석\n",
    "- 추상적 요약은 의미가 실제 헤드라인보다 직접적인 느낌이다. 가끔 이상한 표현이나 매끄럽지 못한 표현도 있다.\n",
    "- 추출적 요약은 주요문장을 잘 추출하였다. 문장마다의 흐름은 깨지는 느낌이다."
   ]
  },
  {
   "cell_type": "markdown",
   "id": "stuffed-viking",
   "metadata": {},
   "source": [
    "## 2. 소감 및 차후 과제"
   ]
  },
  {
   "cell_type": "markdown",
   "id": "historical-platinum",
   "metadata": {},
   "source": [
    "- 함수화하는 작업을 하지 못하였는 보강해야겠다..    \n",
    "- attention 메커니즘에서 맴돌았다. 좀 더 명쾌한 이해 보충해야겠다.   "
   ]
  }
 ],
 "metadata": {
  "kernelspec": {
   "display_name": "Python 3",
   "language": "python",
   "name": "python3"
  },
  "language_info": {
   "codemirror_mode": {
    "name": "ipython",
    "version": 3
   },
   "file_extension": ".py",
   "mimetype": "text/x-python",
   "name": "python",
   "nbconvert_exporter": "python",
   "pygments_lexer": "ipython3",
   "version": "3.7.9"
  }
 },
 "nbformat": 4,
 "nbformat_minor": 5
}
